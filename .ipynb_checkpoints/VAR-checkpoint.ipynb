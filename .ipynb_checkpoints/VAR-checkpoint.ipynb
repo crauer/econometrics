{
 "cells": [
  {
   "cell_type": "markdown",
   "metadata": {},
   "source": [
    "# Vector Autoregressive Models\n",
    "\n",
    "Autoregression is a time series model that uses observations from previous time steps as input to a regression equation to predict the value at the next time step.\n",
    "\n",
    "It is considered as an Autoregressive model because, each variable (Time Series) is modeled as a function of the past values, that is the predictors are nothing but the lags (time delayed value) of the series.\n",
    "\n",
    "Ok, so how is VAR different from other Autoregressive models like AR, ARMA or ARIMA?\n",
    "\n",
    "The primary difference is those models are uni-directional, where, the predictors influence the Y and not vice-versa. Whereas, Vector Auto Regression (VAR) is bi-directional. That is, the variables influence each other."
   ]
  },
  {
   "cell_type": "code",
   "execution_count": 1,
   "metadata": {
    "collapsed": true
   },
   "outputs": [],
   "source": [
    "%matplotlib inline"
   ]
  },
  {
   "cell_type": "code",
   "execution_count": 2,
   "metadata": {
    "scrolled": true
   },
   "outputs": [],
   "source": [
    "import matplotlib.pyplot as plt\n",
    "import numpy as np\n",
    "import pandas as pd\n",
    "import pandas_datareader.data as web\n",
    "\n",
    "from datetime import datetime\n",
    "\n",
    "from statsmodels.stats.stattools import durbin_watson\n",
    "from statsmodels.tsa.api import VAR\n",
    "from statsmodels.tsa.stattools import adfuller, grangercausalitytests\n",
    "from statsmodels.tsa.vector_ar.vecm import coint_johansen"
   ]
  },
  {
   "cell_type": "code",
   "execution_count": 3,
   "metadata": {},
   "outputs": [],
   "source": [
    "start_date = datetime(2015, 1, 1)\n",
    "end_date = datetime(2020, 1, 1)"
   ]
  },
  {
   "cell_type": "markdown",
   "metadata": {},
   "source": [
    "Pull the US Treasury bond interest rates from the FED."
   ]
  },
  {
   "cell_type": "code",
   "execution_count": 4,
   "metadata": {},
   "outputs": [
    {
     "data": {
      "text/html": [
       "<div>\n",
       "<style scoped>\n",
       "    .dataframe tbody tr th:only-of-type {\n",
       "        vertical-align: middle;\n",
       "    }\n",
       "\n",
       "    .dataframe tbody tr th {\n",
       "        vertical-align: top;\n",
       "    }\n",
       "\n",
       "    .dataframe thead th {\n",
       "        text-align: right;\n",
       "    }\n",
       "</style>\n",
       "<table border=\"1\" class=\"dataframe\">\n",
       "  <thead>\n",
       "    <tr style=\"text-align: right;\">\n",
       "      <th></th>\n",
       "      <th>Date</th>\n",
       "      <th>DTB3</th>\n",
       "    </tr>\n",
       "  </thead>\n",
       "  <tbody>\n",
       "    <tr>\n",
       "      <th>0</th>\n",
       "      <td>2015-01-01</td>\n",
       "      <td>NaN</td>\n",
       "    </tr>\n",
       "    <tr>\n",
       "      <th>1</th>\n",
       "      <td>2015-01-02</td>\n",
       "      <td>0.02</td>\n",
       "    </tr>\n",
       "    <tr>\n",
       "      <th>2</th>\n",
       "      <td>2015-01-05</td>\n",
       "      <td>0.03</td>\n",
       "    </tr>\n",
       "    <tr>\n",
       "      <th>3</th>\n",
       "      <td>2015-01-06</td>\n",
       "      <td>0.03</td>\n",
       "    </tr>\n",
       "    <tr>\n",
       "      <th>4</th>\n",
       "      <td>2015-01-07</td>\n",
       "      <td>0.03</td>\n",
       "    </tr>\n",
       "  </tbody>\n",
       "</table>\n",
       "</div>"
      ],
      "text/plain": [
       "        Date  DTB3\n",
       "0 2015-01-01   NaN\n",
       "1 2015-01-02  0.02\n",
       "2 2015-01-05  0.03\n",
       "3 2015-01-06  0.03\n",
       "4 2015-01-07  0.03"
      ]
     },
     "execution_count": 4,
     "metadata": {},
     "output_type": "execute_result"
    }
   ],
   "source": [
    "dtb3 = web.DataReader('DTB3', 'fred', start_date, end_date).reset_index()\n",
    "dtb3.columns = ['Date', 'DTB3']\n",
    "\n",
    "dtb3.head(5)"
   ]
  },
  {
   "cell_type": "markdown",
   "metadata": {},
   "source": [
    "Pull the returns for a single equity...in this case Microsoft."
   ]
  },
  {
   "cell_type": "code",
   "execution_count": 5,
   "metadata": {},
   "outputs": [
    {
     "data": {
      "text/html": [
       "<div>\n",
       "<style scoped>\n",
       "    .dataframe tbody tr th:only-of-type {\n",
       "        vertical-align: middle;\n",
       "    }\n",
       "\n",
       "    .dataframe tbody tr th {\n",
       "        vertical-align: top;\n",
       "    }\n",
       "\n",
       "    .dataframe thead th {\n",
       "        text-align: right;\n",
       "    }\n",
       "</style>\n",
       "<table border=\"1\" class=\"dataframe\">\n",
       "  <thead>\n",
       "    <tr style=\"text-align: right;\">\n",
       "      <th></th>\n",
       "      <th>Date</th>\n",
       "      <th>High</th>\n",
       "      <th>Low</th>\n",
       "      <th>Open</th>\n",
       "      <th>Close</th>\n",
       "      <th>Volume</th>\n",
       "      <th>Adj Close</th>\n",
       "    </tr>\n",
       "  </thead>\n",
       "  <tbody>\n",
       "    <tr>\n",
       "      <th>0</th>\n",
       "      <td>2015-01-02</td>\n",
       "      <td>47.419998</td>\n",
       "      <td>46.540001</td>\n",
       "      <td>46.660000</td>\n",
       "      <td>46.759998</td>\n",
       "      <td>27913900.0</td>\n",
       "      <td>41.979183</td>\n",
       "    </tr>\n",
       "    <tr>\n",
       "      <th>1</th>\n",
       "      <td>2015-01-05</td>\n",
       "      <td>46.730000</td>\n",
       "      <td>46.250000</td>\n",
       "      <td>46.369999</td>\n",
       "      <td>46.330002</td>\n",
       "      <td>39673900.0</td>\n",
       "      <td>41.593143</td>\n",
       "    </tr>\n",
       "    <tr>\n",
       "      <th>2</th>\n",
       "      <td>2015-01-06</td>\n",
       "      <td>46.750000</td>\n",
       "      <td>45.540001</td>\n",
       "      <td>46.380001</td>\n",
       "      <td>45.650002</td>\n",
       "      <td>36447900.0</td>\n",
       "      <td>40.982681</td>\n",
       "    </tr>\n",
       "    <tr>\n",
       "      <th>3</th>\n",
       "      <td>2015-01-07</td>\n",
       "      <td>46.459999</td>\n",
       "      <td>45.490002</td>\n",
       "      <td>45.980000</td>\n",
       "      <td>46.230000</td>\n",
       "      <td>29114100.0</td>\n",
       "      <td>41.503380</td>\n",
       "    </tr>\n",
       "    <tr>\n",
       "      <th>4</th>\n",
       "      <td>2015-01-08</td>\n",
       "      <td>47.750000</td>\n",
       "      <td>46.720001</td>\n",
       "      <td>46.750000</td>\n",
       "      <td>47.590000</td>\n",
       "      <td>29645200.0</td>\n",
       "      <td>42.724323</td>\n",
       "    </tr>\n",
       "  </tbody>\n",
       "</table>\n",
       "</div>"
      ],
      "text/plain": [
       "        Date       High        Low       Open      Close      Volume  \\\n",
       "0 2015-01-02  47.419998  46.540001  46.660000  46.759998  27913900.0   \n",
       "1 2015-01-05  46.730000  46.250000  46.369999  46.330002  39673900.0   \n",
       "2 2015-01-06  46.750000  45.540001  46.380001  45.650002  36447900.0   \n",
       "3 2015-01-07  46.459999  45.490002  45.980000  46.230000  29114100.0   \n",
       "4 2015-01-08  47.750000  46.720001  46.750000  47.590000  29645200.0   \n",
       "\n",
       "   Adj Close  \n",
       "0  41.979183  \n",
       "1  41.593143  \n",
       "2  40.982681  \n",
       "3  41.503380  \n",
       "4  42.724323  "
      ]
     },
     "execution_count": 5,
     "metadata": {},
     "output_type": "execute_result"
    }
   ],
   "source": [
    "msft = web.DataReader('MSFT', 'yahoo', start_date, end_date).reset_index()\n",
    "msft.head(5)"
   ]
  },
  {
   "cell_type": "markdown",
   "metadata": {},
   "source": [
    "Pull the returns for the S&P stock index as an indicator of the overall equity market."
   ]
  },
  {
   "cell_type": "code",
   "execution_count": 6,
   "metadata": {},
   "outputs": [
    {
     "data": {
      "text/html": [
       "<div>\n",
       "<style scoped>\n",
       "    .dataframe tbody tr th:only-of-type {\n",
       "        vertical-align: middle;\n",
       "    }\n",
       "\n",
       "    .dataframe tbody tr th {\n",
       "        vertical-align: top;\n",
       "    }\n",
       "\n",
       "    .dataframe thead th {\n",
       "        text-align: right;\n",
       "    }\n",
       "</style>\n",
       "<table border=\"1\" class=\"dataframe\">\n",
       "  <thead>\n",
       "    <tr style=\"text-align: right;\">\n",
       "      <th></th>\n",
       "      <th>Date</th>\n",
       "      <th>SP500</th>\n",
       "    </tr>\n",
       "  </thead>\n",
       "  <tbody>\n",
       "    <tr>\n",
       "      <th>0</th>\n",
       "      <td>2015-01-01</td>\n",
       "      <td>NaN</td>\n",
       "    </tr>\n",
       "    <tr>\n",
       "      <th>1</th>\n",
       "      <td>2015-01-02</td>\n",
       "      <td>2058.20</td>\n",
       "    </tr>\n",
       "    <tr>\n",
       "      <th>2</th>\n",
       "      <td>2015-01-05</td>\n",
       "      <td>2020.58</td>\n",
       "    </tr>\n",
       "    <tr>\n",
       "      <th>3</th>\n",
       "      <td>2015-01-06</td>\n",
       "      <td>2002.61</td>\n",
       "    </tr>\n",
       "    <tr>\n",
       "      <th>4</th>\n",
       "      <td>2015-01-07</td>\n",
       "      <td>2025.90</td>\n",
       "    </tr>\n",
       "  </tbody>\n",
       "</table>\n",
       "</div>"
      ],
      "text/plain": [
       "        Date    SP500\n",
       "0 2015-01-01      NaN\n",
       "1 2015-01-02  2058.20\n",
       "2 2015-01-05  2020.58\n",
       "3 2015-01-06  2002.61\n",
       "4 2015-01-07  2025.90"
      ]
     },
     "execution_count": 6,
     "metadata": {},
     "output_type": "execute_result"
    }
   ],
   "source": [
    "spy = web.DataReader('SP500', 'fred', start_date, end_date).reset_index()\n",
    "spy.columns = ['Date', 'SP500']\n",
    "\n",
    "spy.head(5)"
   ]
  },
  {
   "cell_type": "markdown",
   "metadata": {},
   "source": [
    "Assuming there is a hidden relationship between a given stock, the equity market, and the bond market, let's build a prediction of future stock prices.\n",
    "\n",
    "But first, let's convert our dataset from a daily to a weekly time series."
   ]
  },
  {
   "cell_type": "code",
   "execution_count": 7,
   "metadata": {
    "collapsed": true
   },
   "outputs": [],
   "source": [
    "def to_weekly(df, val_col):\n",
    "    df['Week_Number'] = df['Date'].dt.week\n",
    "    df['Year'] = df['Date'].dt.year\n",
    "    \n",
    "    grouped_df = df.groupby(['Year', 'Week_Number']).agg({'Date': 'first', val_col: 'first'}).reset_index()\n",
    "    grouped_df.columns = ['Year', 'Week_Number', 'Date', 'Price']\n",
    "    \n",
    "    return grouped_df"
   ]
  },
  {
   "cell_type": "code",
   "execution_count": 8,
   "metadata": {},
   "outputs": [
    {
     "data": {
      "text/html": [
       "<div>\n",
       "<style scoped>\n",
       "    .dataframe tbody tr th:only-of-type {\n",
       "        vertical-align: middle;\n",
       "    }\n",
       "\n",
       "    .dataframe tbody tr th {\n",
       "        vertical-align: top;\n",
       "    }\n",
       "\n",
       "    .dataframe thead th {\n",
       "        text-align: right;\n",
       "    }\n",
       "</style>\n",
       "<table border=\"1\" class=\"dataframe\">\n",
       "  <thead>\n",
       "    <tr style=\"text-align: right;\">\n",
       "      <th></th>\n",
       "      <th>Year</th>\n",
       "      <th>Week_Number</th>\n",
       "      <th>Date</th>\n",
       "      <th>Price</th>\n",
       "    </tr>\n",
       "  </thead>\n",
       "  <tbody>\n",
       "    <tr>\n",
       "      <th>0</th>\n",
       "      <td>2015</td>\n",
       "      <td>1</td>\n",
       "      <td>2015-01-02</td>\n",
       "      <td>41.979183</td>\n",
       "    </tr>\n",
       "    <tr>\n",
       "      <th>1</th>\n",
       "      <td>2015</td>\n",
       "      <td>2</td>\n",
       "      <td>2015-01-05</td>\n",
       "      <td>41.593143</td>\n",
       "    </tr>\n",
       "    <tr>\n",
       "      <th>2</th>\n",
       "      <td>2015</td>\n",
       "      <td>3</td>\n",
       "      <td>2015-01-12</td>\n",
       "      <td>41.835537</td>\n",
       "    </tr>\n",
       "    <tr>\n",
       "      <th>3</th>\n",
       "      <td>2015</td>\n",
       "      <td>4</td>\n",
       "      <td>2015-01-20</td>\n",
       "      <td>41.647015</td>\n",
       "    </tr>\n",
       "    <tr>\n",
       "      <th>4</th>\n",
       "      <td>2015</td>\n",
       "      <td>5</td>\n",
       "      <td>2015-01-26</td>\n",
       "      <td>42.203625</td>\n",
       "    </tr>\n",
       "  </tbody>\n",
       "</table>\n",
       "</div>"
      ],
      "text/plain": [
       "   Year  Week_Number       Date      Price\n",
       "0  2015            1 2015-01-02  41.979183\n",
       "1  2015            2 2015-01-05  41.593143\n",
       "2  2015            3 2015-01-12  41.835537\n",
       "3  2015            4 2015-01-20  41.647015\n",
       "4  2015            5 2015-01-26  42.203625"
      ]
     },
     "execution_count": 8,
     "metadata": {},
     "output_type": "execute_result"
    }
   ],
   "source": [
    "msft = to_weekly(msft, 'Adj Close')\n",
    "msft.head(5)"
   ]
  },
  {
   "cell_type": "code",
   "execution_count": 9,
   "metadata": {},
   "outputs": [
    {
     "data": {
      "text/html": [
       "<div>\n",
       "<style scoped>\n",
       "    .dataframe tbody tr th:only-of-type {\n",
       "        vertical-align: middle;\n",
       "    }\n",
       "\n",
       "    .dataframe tbody tr th {\n",
       "        vertical-align: top;\n",
       "    }\n",
       "\n",
       "    .dataframe thead th {\n",
       "        text-align: right;\n",
       "    }\n",
       "</style>\n",
       "<table border=\"1\" class=\"dataframe\">\n",
       "  <thead>\n",
       "    <tr style=\"text-align: right;\">\n",
       "      <th></th>\n",
       "      <th>Year</th>\n",
       "      <th>Week_Number</th>\n",
       "      <th>Date</th>\n",
       "      <th>Price</th>\n",
       "    </tr>\n",
       "  </thead>\n",
       "  <tbody>\n",
       "    <tr>\n",
       "      <th>0</th>\n",
       "      <td>2015</td>\n",
       "      <td>1</td>\n",
       "      <td>2015-01-01</td>\n",
       "      <td>2058.20</td>\n",
       "    </tr>\n",
       "    <tr>\n",
       "      <th>1</th>\n",
       "      <td>2015</td>\n",
       "      <td>2</td>\n",
       "      <td>2015-01-05</td>\n",
       "      <td>2020.58</td>\n",
       "    </tr>\n",
       "    <tr>\n",
       "      <th>2</th>\n",
       "      <td>2015</td>\n",
       "      <td>3</td>\n",
       "      <td>2015-01-12</td>\n",
       "      <td>2028.26</td>\n",
       "    </tr>\n",
       "    <tr>\n",
       "      <th>3</th>\n",
       "      <td>2015</td>\n",
       "      <td>4</td>\n",
       "      <td>2015-01-19</td>\n",
       "      <td>2022.55</td>\n",
       "    </tr>\n",
       "    <tr>\n",
       "      <th>4</th>\n",
       "      <td>2015</td>\n",
       "      <td>5</td>\n",
       "      <td>2015-01-26</td>\n",
       "      <td>2057.09</td>\n",
       "    </tr>\n",
       "  </tbody>\n",
       "</table>\n",
       "</div>"
      ],
      "text/plain": [
       "   Year  Week_Number       Date    Price\n",
       "0  2015            1 2015-01-01  2058.20\n",
       "1  2015            2 2015-01-05  2020.58\n",
       "2  2015            3 2015-01-12  2028.26\n",
       "3  2015            4 2015-01-19  2022.55\n",
       "4  2015            5 2015-01-26  2057.09"
      ]
     },
     "execution_count": 9,
     "metadata": {},
     "output_type": "execute_result"
    }
   ],
   "source": [
    "spy = to_weekly(spy, 'SP500')\n",
    "spy.head(5)"
   ]
  },
  {
   "cell_type": "code",
   "execution_count": 10,
   "metadata": {},
   "outputs": [
    {
     "data": {
      "text/html": [
       "<div>\n",
       "<style scoped>\n",
       "    .dataframe tbody tr th:only-of-type {\n",
       "        vertical-align: middle;\n",
       "    }\n",
       "\n",
       "    .dataframe tbody tr th {\n",
       "        vertical-align: top;\n",
       "    }\n",
       "\n",
       "    .dataframe thead th {\n",
       "        text-align: right;\n",
       "    }\n",
       "</style>\n",
       "<table border=\"1\" class=\"dataframe\">\n",
       "  <thead>\n",
       "    <tr style=\"text-align: right;\">\n",
       "      <th></th>\n",
       "      <th>Year</th>\n",
       "      <th>Week_Number</th>\n",
       "      <th>Date</th>\n",
       "      <th>Price</th>\n",
       "    </tr>\n",
       "  </thead>\n",
       "  <tbody>\n",
       "    <tr>\n",
       "      <th>0</th>\n",
       "      <td>2015</td>\n",
       "      <td>1</td>\n",
       "      <td>2015-01-01</td>\n",
       "      <td>0.02</td>\n",
       "    </tr>\n",
       "    <tr>\n",
       "      <th>1</th>\n",
       "      <td>2015</td>\n",
       "      <td>2</td>\n",
       "      <td>2015-01-05</td>\n",
       "      <td>0.03</td>\n",
       "    </tr>\n",
       "    <tr>\n",
       "      <th>2</th>\n",
       "      <td>2015</td>\n",
       "      <td>3</td>\n",
       "      <td>2015-01-12</td>\n",
       "      <td>0.03</td>\n",
       "    </tr>\n",
       "    <tr>\n",
       "      <th>3</th>\n",
       "      <td>2015</td>\n",
       "      <td>4</td>\n",
       "      <td>2015-01-19</td>\n",
       "      <td>0.03</td>\n",
       "    </tr>\n",
       "    <tr>\n",
       "      <th>4</th>\n",
       "      <td>2015</td>\n",
       "      <td>5</td>\n",
       "      <td>2015-01-26</td>\n",
       "      <td>0.03</td>\n",
       "    </tr>\n",
       "  </tbody>\n",
       "</table>\n",
       "</div>"
      ],
      "text/plain": [
       "   Year  Week_Number       Date  Price\n",
       "0  2015            1 2015-01-01   0.02\n",
       "1  2015            2 2015-01-05   0.03\n",
       "2  2015            3 2015-01-12   0.03\n",
       "3  2015            4 2015-01-19   0.03\n",
       "4  2015            5 2015-01-26   0.03"
      ]
     },
     "execution_count": 10,
     "metadata": {},
     "output_type": "execute_result"
    }
   ],
   "source": [
    "dtb3 = to_weekly(dtb3, 'DTB3')\n",
    "dtb3.head(5)"
   ]
  },
  {
   "cell_type": "markdown",
   "metadata": {},
   "source": [
    "First let's visualize the time series."
   ]
  },
  {
   "cell_type": "code",
   "execution_count": 11,
   "metadata": {},
   "outputs": [
    {
     "data": {
      "image/png": "[encoded data removed]",
      "text/plain": [
       "<matplotlib.figure.Figure at 0x20f60bdd1d0>"
      ]
     },
     "metadata": {},
     "output_type": "display_data"
    }
   ],
   "source": [
    "fig, axes = plt.subplots(nrows=3, ncols=1, dpi=120, figsize=(10,6))\n",
    "for i, ax in enumerate(axes.flatten()):\n",
    "    if i == 0:\n",
    "        data = msft['Price']\n",
    "        ax.set_title('MSFT')\n",
    "    elif i == 1:\n",
    "        data = spy['Price']\n",
    "        ax.set_title('SP500')\n",
    "    else:\n",
    "        data = dtb3['Price']\n",
    "        ax.set_title('DTB3')\n",
    "        \n",
    "    ax.plot(data, color='red', linewidth=1)\n",
    "    \n",
    "    # Decorations\n",
    "    ax.xaxis.set_ticks_position('none')\n",
    "    ax.yaxis.set_ticks_position('none')\n",
    "    \n",
    "    ax.spines['top'].set_alpha(0)\n",
    "    ax.tick_params(labelsize=6)\n",
    "    \n",
    "plt.tight_layout();"
   ]
  },
  {
   "cell_type": "code",
   "execution_count": 12,
   "metadata": {},
   "outputs": [
    {
     "data": {
      "text/plain": [
       "262"
      ]
     },
     "execution_count": 12,
     "metadata": {},
     "output_type": "execute_result"
    }
   ],
   "source": [
    "len(msft)"
   ]
  },
  {
   "cell_type": "code",
   "execution_count": 13,
   "metadata": {},
   "outputs": [
    {
     "data": {
      "text/plain": [
       "263"
      ]
     },
     "execution_count": 13,
     "metadata": {},
     "output_type": "execute_result"
    }
   ],
   "source": [
    "len(spy)"
   ]
  },
  {
   "cell_type": "code",
   "execution_count": 14,
   "metadata": {},
   "outputs": [
    {
     "data": {
      "text/plain": [
       "263"
      ]
     },
     "execution_count": 14,
     "metadata": {},
     "output_type": "execute_result"
    }
   ],
   "source": [
    "len(dtb3)"
   ]
  },
  {
   "cell_type": "code",
   "execution_count": 15,
   "metadata": {},
   "outputs": [
    {
     "data": {
      "text/html": [
       "<div>\n",
       "<style scoped>\n",
       "    .dataframe tbody tr th:only-of-type {\n",
       "        vertical-align: middle;\n",
       "    }\n",
       "\n",
       "    .dataframe tbody tr th {\n",
       "        vertical-align: top;\n",
       "    }\n",
       "\n",
       "    .dataframe thead th {\n",
       "        text-align: right;\n",
       "    }\n",
       "</style>\n",
       "<table border=\"1\" class=\"dataframe\">\n",
       "  <thead>\n",
       "    <tr style=\"text-align: right;\">\n",
       "      <th></th>\n",
       "      <th>Year</th>\n",
       "      <th>Week_Number</th>\n",
       "      <th>Date</th>\n",
       "      <th>Price</th>\n",
       "      <th>DTB3 (return)</th>\n",
       "    </tr>\n",
       "  </thead>\n",
       "  <tbody>\n",
       "    <tr>\n",
       "      <th>0</th>\n",
       "      <td>2015</td>\n",
       "      <td>1</td>\n",
       "      <td>2015-01-01</td>\n",
       "      <td>0.02</td>\n",
       "      <td>NaN</td>\n",
       "    </tr>\n",
       "    <tr>\n",
       "      <th>1</th>\n",
       "      <td>2015</td>\n",
       "      <td>2</td>\n",
       "      <td>2015-01-05</td>\n",
       "      <td>0.03</td>\n",
       "      <td>0.01</td>\n",
       "    </tr>\n",
       "    <tr>\n",
       "      <th>2</th>\n",
       "      <td>2015</td>\n",
       "      <td>3</td>\n",
       "      <td>2015-01-12</td>\n",
       "      <td>0.03</td>\n",
       "      <td>0.00</td>\n",
       "    </tr>\n",
       "    <tr>\n",
       "      <th>3</th>\n",
       "      <td>2015</td>\n",
       "      <td>4</td>\n",
       "      <td>2015-01-19</td>\n",
       "      <td>0.03</td>\n",
       "      <td>0.00</td>\n",
       "    </tr>\n",
       "    <tr>\n",
       "      <th>4</th>\n",
       "      <td>2015</td>\n",
       "      <td>5</td>\n",
       "      <td>2015-01-26</td>\n",
       "      <td>0.03</td>\n",
       "      <td>0.00</td>\n",
       "    </tr>\n",
       "  </tbody>\n",
       "</table>\n",
       "</div>"
      ],
      "text/plain": [
       "   Year  Week_Number       Date  Price  DTB3 (return)\n",
       "0  2015            1 2015-01-01   0.02            NaN\n",
       "1  2015            2 2015-01-05   0.03           0.01\n",
       "2  2015            3 2015-01-12   0.03           0.00\n",
       "3  2015            4 2015-01-19   0.03           0.00\n",
       "4  2015            5 2015-01-26   0.03           0.00"
      ]
     },
     "execution_count": 15,
     "metadata": {},
     "output_type": "execute_result"
    }
   ],
   "source": [
    "dtb3['DTB3 (return)'] = dtb3['Price'].diff()\n",
    "\n",
    "dtb3.head(5)"
   ]
  },
  {
   "cell_type": "markdown",
   "metadata": {},
   "source": [
    "Note how the length of the data frames aren't equal.  This is because the bond market is open/closed different days than the equity markets.\n",
    "\n",
    "Convert the stock prices into a stationary series by converting to log returns."
   ]
  },
  {
   "cell_type": "code",
   "execution_count": 16,
   "metadata": {},
   "outputs": [
    {
     "data": {
      "text/html": [
       "<div>\n",
       "<style scoped>\n",
       "    .dataframe tbody tr th:only-of-type {\n",
       "        vertical-align: middle;\n",
       "    }\n",
       "\n",
       "    .dataframe tbody tr th {\n",
       "        vertical-align: top;\n",
       "    }\n",
       "\n",
       "    .dataframe thead th {\n",
       "        text-align: right;\n",
       "    }\n",
       "</style>\n",
       "<table border=\"1\" class=\"dataframe\">\n",
       "  <thead>\n",
       "    <tr style=\"text-align: right;\">\n",
       "      <th></th>\n",
       "      <th>Year</th>\n",
       "      <th>Week_Number</th>\n",
       "      <th>Date</th>\n",
       "      <th>Price</th>\n",
       "      <th>MSFT (return)</th>\n",
       "    </tr>\n",
       "  </thead>\n",
       "  <tbody>\n",
       "    <tr>\n",
       "      <th>0</th>\n",
       "      <td>2015</td>\n",
       "      <td>1</td>\n",
       "      <td>2015-01-02</td>\n",
       "      <td>41.979183</td>\n",
       "      <td>NaN</td>\n",
       "    </tr>\n",
       "    <tr>\n",
       "      <th>1</th>\n",
       "      <td>2015</td>\n",
       "      <td>2</td>\n",
       "      <td>2015-01-05</td>\n",
       "      <td>41.593143</td>\n",
       "      <td>-0.009239</td>\n",
       "    </tr>\n",
       "    <tr>\n",
       "      <th>2</th>\n",
       "      <td>2015</td>\n",
       "      <td>3</td>\n",
       "      <td>2015-01-12</td>\n",
       "      <td>41.835537</td>\n",
       "      <td>0.005811</td>\n",
       "    </tr>\n",
       "    <tr>\n",
       "      <th>3</th>\n",
       "      <td>2015</td>\n",
       "      <td>4</td>\n",
       "      <td>2015-01-20</td>\n",
       "      <td>41.647015</td>\n",
       "      <td>-0.004516</td>\n",
       "    </tr>\n",
       "    <tr>\n",
       "      <th>4</th>\n",
       "      <td>2015</td>\n",
       "      <td>5</td>\n",
       "      <td>2015-01-26</td>\n",
       "      <td>42.203625</td>\n",
       "      <td>0.013276</td>\n",
       "    </tr>\n",
       "  </tbody>\n",
       "</table>\n",
       "</div>"
      ],
      "text/plain": [
       "   Year  Week_Number       Date      Price  MSFT (return)\n",
       "0  2015            1 2015-01-02  41.979183            NaN\n",
       "1  2015            2 2015-01-05  41.593143      -0.009239\n",
       "2  2015            3 2015-01-12  41.835537       0.005811\n",
       "3  2015            4 2015-01-20  41.647015      -0.004516\n",
       "4  2015            5 2015-01-26  42.203625       0.013276"
      ]
     },
     "execution_count": 16,
     "metadata": {},
     "output_type": "execute_result"
    }
   ],
   "source": [
    "msft['MSFT (return)'] = np.log(msft['Price']).diff()\n",
    "\n",
    "msft.head(5)"
   ]
  },
  {
   "cell_type": "code",
   "execution_count": 17,
   "metadata": {},
   "outputs": [
    {
     "data": {
      "text/html": [
       "<div>\n",
       "<style scoped>\n",
       "    .dataframe tbody tr th:only-of-type {\n",
       "        vertical-align: middle;\n",
       "    }\n",
       "\n",
       "    .dataframe tbody tr th {\n",
       "        vertical-align: top;\n",
       "    }\n",
       "\n",
       "    .dataframe thead th {\n",
       "        text-align: right;\n",
       "    }\n",
       "</style>\n",
       "<table border=\"1\" class=\"dataframe\">\n",
       "  <thead>\n",
       "    <tr style=\"text-align: right;\">\n",
       "      <th></th>\n",
       "      <th>Year</th>\n",
       "      <th>Week_Number</th>\n",
       "      <th>Date</th>\n",
       "      <th>Price</th>\n",
       "      <th>SP500 (return)</th>\n",
       "    </tr>\n",
       "  </thead>\n",
       "  <tbody>\n",
       "    <tr>\n",
       "      <th>0</th>\n",
       "      <td>2015</td>\n",
       "      <td>1</td>\n",
       "      <td>2015-01-01</td>\n",
       "      <td>2058.20</td>\n",
       "      <td>NaN</td>\n",
       "    </tr>\n",
       "    <tr>\n",
       "      <th>1</th>\n",
       "      <td>2015</td>\n",
       "      <td>2</td>\n",
       "      <td>2015-01-05</td>\n",
       "      <td>2020.58</td>\n",
       "      <td>-0.018447</td>\n",
       "    </tr>\n",
       "    <tr>\n",
       "      <th>2</th>\n",
       "      <td>2015</td>\n",
       "      <td>3</td>\n",
       "      <td>2015-01-12</td>\n",
       "      <td>2028.26</td>\n",
       "      <td>0.003794</td>\n",
       "    </tr>\n",
       "    <tr>\n",
       "      <th>3</th>\n",
       "      <td>2015</td>\n",
       "      <td>4</td>\n",
       "      <td>2015-01-19</td>\n",
       "      <td>2022.55</td>\n",
       "      <td>-0.002819</td>\n",
       "    </tr>\n",
       "    <tr>\n",
       "      <th>4</th>\n",
       "      <td>2015</td>\n",
       "      <td>5</td>\n",
       "      <td>2015-01-26</td>\n",
       "      <td>2057.09</td>\n",
       "      <td>0.016933</td>\n",
       "    </tr>\n",
       "  </tbody>\n",
       "</table>\n",
       "</div>"
      ],
      "text/plain": [
       "   Year  Week_Number       Date    Price  SP500 (return)\n",
       "0  2015            1 2015-01-01  2058.20             NaN\n",
       "1  2015            2 2015-01-05  2020.58       -0.018447\n",
       "2  2015            3 2015-01-12  2028.26        0.003794\n",
       "3  2015            4 2015-01-19  2022.55       -0.002819\n",
       "4  2015            5 2015-01-26  2057.09        0.016933"
      ]
     },
     "execution_count": 17,
     "metadata": {},
     "output_type": "execute_result"
    }
   ],
   "source": [
    "spy['SP500 (return)'] = np.log(spy['Price']).diff()\n",
    "\n",
    "spy.head(5)"
   ]
  },
  {
   "cell_type": "markdown",
   "metadata": {},
   "source": [
    "Now combine the three datasets using only the dates that exist in all three.  Also, remove any NAs that are leftover."
   ]
  },
  {
   "cell_type": "code",
   "execution_count": 18,
   "metadata": {},
   "outputs": [
    {
     "data": {
      "text/html": [
       "<div>\n",
       "<style scoped>\n",
       "    .dataframe tbody tr th:only-of-type {\n",
       "        vertical-align: middle;\n",
       "    }\n",
       "\n",
       "    .dataframe tbody tr th {\n",
       "        vertical-align: top;\n",
       "    }\n",
       "\n",
       "    .dataframe thead th {\n",
       "        text-align: right;\n",
       "    }\n",
       "</style>\n",
       "<table border=\"1\" class=\"dataframe\">\n",
       "  <thead>\n",
       "    <tr style=\"text-align: right;\">\n",
       "      <th></th>\n",
       "      <th>Year</th>\n",
       "      <th>Week_Number</th>\n",
       "      <th>MSFT (return)</th>\n",
       "      <th>SP500 (return)</th>\n",
       "      <th>DTB3 (return)</th>\n",
       "    </tr>\n",
       "  </thead>\n",
       "  <tbody>\n",
       "    <tr>\n",
       "      <th>0</th>\n",
       "      <td>2015</td>\n",
       "      <td>1</td>\n",
       "      <td>NaN</td>\n",
       "      <td>NaN</td>\n",
       "      <td>NaN</td>\n",
       "    </tr>\n",
       "    <tr>\n",
       "      <th>1</th>\n",
       "      <td>2015</td>\n",
       "      <td>2</td>\n",
       "      <td>-0.009239</td>\n",
       "      <td>-0.018447</td>\n",
       "      <td>0.01</td>\n",
       "    </tr>\n",
       "    <tr>\n",
       "      <th>2</th>\n",
       "      <td>2015</td>\n",
       "      <td>3</td>\n",
       "      <td>0.005811</td>\n",
       "      <td>0.003794</td>\n",
       "      <td>0.00</td>\n",
       "    </tr>\n",
       "    <tr>\n",
       "      <th>3</th>\n",
       "      <td>2015</td>\n",
       "      <td>4</td>\n",
       "      <td>-0.004516</td>\n",
       "      <td>-0.002819</td>\n",
       "      <td>0.00</td>\n",
       "    </tr>\n",
       "    <tr>\n",
       "      <th>4</th>\n",
       "      <td>2015</td>\n",
       "      <td>5</td>\n",
       "      <td>0.013276</td>\n",
       "      <td>0.016933</td>\n",
       "      <td>0.00</td>\n",
       "    </tr>\n",
       "  </tbody>\n",
       "</table>\n",
       "</div>"
      ],
      "text/plain": [
       "   Year  Week_Number  MSFT (return)  SP500 (return)  DTB3 (return)\n",
       "0  2015            1            NaN             NaN            NaN\n",
       "1  2015            2      -0.009239       -0.018447           0.01\n",
       "2  2015            3       0.005811        0.003794           0.00\n",
       "3  2015            4      -0.004516       -0.002819           0.00\n",
       "4  2015            5       0.013276        0.016933           0.00"
      ]
     },
     "execution_count": 18,
     "metadata": {},
     "output_type": "execute_result"
    }
   ],
   "source": [
    "merged_df = msft[['Year', 'Week_Number', 'MSFT (return)']].merge(spy[['Year', 'Week_Number', 'SP500 (return)']], \n",
    "                                                                 on=['Year', 'Week_Number'], \n",
    "                                                                 how='inner')\n",
    "merged_df = merged_df.merge(dtb3[['Year', 'Week_Number', 'DTB3 (return)']], \n",
    "                            on=['Year', 'Week_Number'], \n",
    "                            how='inner')\n",
    "\n",
    "merged_df.head(5)"
   ]
  },
  {
   "cell_type": "code",
   "execution_count": 19,
   "metadata": {},
   "outputs": [
    {
     "data": {
      "text/plain": [
       "262"
      ]
     },
     "execution_count": 19,
     "metadata": {},
     "output_type": "execute_result"
    }
   ],
   "source": [
    "len(merged_df)"
   ]
  },
  {
   "cell_type": "code",
   "execution_count": 20,
   "metadata": {},
   "outputs": [
    {
     "data": {
      "text/plain": [
       "259"
      ]
     },
     "execution_count": 20,
     "metadata": {},
     "output_type": "execute_result"
    }
   ],
   "source": [
    "merged_df = merged_df.dropna()\n",
    "\n",
    "len(merged_df)"
   ]
  },
  {
   "cell_type": "code",
   "execution_count": 21,
   "metadata": {
    "collapsed": true
   },
   "outputs": [],
   "source": [
    "model_columns = ['MSFT (return)', 'SP500 (return)', 'DTB3 (return)']"
   ]
  },
  {
   "cell_type": "code",
   "execution_count": 22,
   "metadata": {},
   "outputs": [
    {
     "data": {
      "image/png": "[encoded data removed]",
      "text/plain": [
       "<matplotlib.figure.Figure at 0x20f60d47b00>"
      ]
     },
     "metadata": {},
     "output_type": "display_data"
    }
   ],
   "source": [
    "fig, axes = plt.subplots(nrows=3, ncols=1, dpi=120, figsize=(10,6))\n",
    "for i, ax in enumerate(axes.flatten()):\n",
    "    data = merged_df[model_columns[i]]\n",
    "    ax.set_title(model_columns[i])\n",
    "        \n",
    "    ax.plot(data, color='red', linewidth=1)\n",
    "    \n",
    "    # Decorations\n",
    "    ax.xaxis.set_ticks_position('none')\n",
    "    ax.yaxis.set_ticks_position('none')\n",
    "    \n",
    "    ax.spines['top'].set_alpha(0)\n",
    "    ax.tick_params(labelsize=6)\n",
    "    \n",
    "plt.tight_layout();"
   ]
  },
  {
   "cell_type": "markdown",
   "metadata": {},
   "source": [
    "So we are down to 240 common rows with no null values."
   ]
  },
  {
   "cell_type": "markdown",
   "metadata": {},
   "source": [
    "### Granger's Casuality Tests\n",
    "\n",
    "Granger’s causality tests the null hypothesis that the coefficients of past values in the regression equation is zero.\n",
    "\n",
    "In simpler terms, the past values of time series (X) do not cause the other series (Y). So, if the p-value obtained from the test is lesser than the significance level of 0.05, then, you can safely reject the null hypothesis."
   ]
  },
  {
   "cell_type": "code",
   "execution_count": 23,
   "metadata": {
    "collapsed": true
   },
   "outputs": [],
   "source": [
    "max_lag=12\n",
    "\n",
    "def grangers_causation_matrix(data, variables, test='ssr_chi2test', maxlag=12, verbose=False):    \n",
    "    \"\"\"\n",
    "    Check Granger Causality of all possible combinations of the Time series.\n",
    "    The rows are the response variable, columns are predictors. The values in the table \n",
    "    are the P-Values. P-Values lesser than the significance level (0.05), implies \n",
    "    the Null Hypothesis that the coefficients of the corresponding past values is \n",
    "    zero, that is, the X does not cause Y can be rejected.\n",
    "\n",
    "    data      : pandas dataframe containing the time series variables\n",
    "    variables : list containing names of the time series variables.\n",
    "    \"\"\"\n",
    "    df = pd.DataFrame(np.zeros((len(variables), len(variables))), columns=variables, index=variables)\n",
    "    \n",
    "    for c in df.columns:\n",
    "        for r in df.index:\n",
    "            test_result = grangercausalitytests(data[[r, c]], maxlag=maxlag, verbose=False)\n",
    "            p_values = [round(test_result[i+1][0][test][1],4) for i in range(maxlag)]\n",
    "            if verbose: print(f'Y = {r}, X = {c}, P Values = {p_values}')\n",
    "            min_p_value = np.min(p_values)\n",
    "            df.loc[r, c] = min_p_value\n",
    "            \n",
    "    df.columns = [var + '_x' for var in variables]\n",
    "    df.index = [var + '_y' for var in variables]\n",
    "    \n",
    "    return df"
   ]
  },
  {
   "cell_type": "code",
   "execution_count": 24,
   "metadata": {},
   "outputs": [
    {
     "data": {
      "text/html": [
       "<div>\n",
       "<style scoped>\n",
       "    .dataframe tbody tr th:only-of-type {\n",
       "        vertical-align: middle;\n",
       "    }\n",
       "\n",
       "    .dataframe tbody tr th {\n",
       "        vertical-align: top;\n",
       "    }\n",
       "\n",
       "    .dataframe thead th {\n",
       "        text-align: right;\n",
       "    }\n",
       "</style>\n",
       "<table border=\"1\" class=\"dataframe\">\n",
       "  <thead>\n",
       "    <tr style=\"text-align: right;\">\n",
       "      <th></th>\n",
       "      <th>MSFT (return)_x</th>\n",
       "      <th>SP500 (return)_x</th>\n",
       "      <th>DTB3 (return)_x</th>\n",
       "    </tr>\n",
       "  </thead>\n",
       "  <tbody>\n",
       "    <tr>\n",
       "      <th>MSFT (return)_y</th>\n",
       "      <td>1.0000</td>\n",
       "      <td>0.2007</td>\n",
       "      <td>0.1890</td>\n",
       "    </tr>\n",
       "    <tr>\n",
       "      <th>SP500 (return)_y</th>\n",
       "      <td>0.1026</td>\n",
       "      <td>1.0000</td>\n",
       "      <td>0.2835</td>\n",
       "    </tr>\n",
       "    <tr>\n",
       "      <th>DTB3 (return)_y</th>\n",
       "      <td>0.1105</td>\n",
       "      <td>0.3362</td>\n",
       "      <td>1.0000</td>\n",
       "    </tr>\n",
       "  </tbody>\n",
       "</table>\n",
       "</div>"
      ],
      "text/plain": [
       "                  MSFT (return)_x  SP500 (return)_x  DTB3 (return)_x\n",
       "MSFT (return)_y            1.0000            0.2007           0.1890\n",
       "SP500 (return)_y           0.1026            1.0000           0.2835\n",
       "DTB3 (return)_y            0.1105            0.3362           1.0000"
      ]
     },
     "execution_count": 24,
     "metadata": {},
     "output_type": "execute_result"
    }
   ],
   "source": [
    "grangers_causation_matrix(merged_df, variables=model_columns) "
   ]
  },
  {
   "cell_type": "markdown",
   "metadata": {},
   "source": [
    "Just looking at the MSFT row, it looks like both the SP500 and DTB3 variables have p-values below the significance level.  Thus, we can reject the null hypothesis."
   ]
  },
  {
   "cell_type": "markdown",
   "metadata": {},
   "source": [
    "### Cointegration Tests\n",
    "\n",
    "The cointegration test helps to establish the presence of a statistically significant connection between two or more time series.\n",
    "\n",
    "Order of integration(d) is nothing but the number of differencing required to make a non-stationary time series stationary.\n",
    "\n",
    "Now, when you have two or more time series, and there exists a linear combination of them that has an order of integration (d) less than that of the individual series, then the collection of series is said to be cointegrated.\n",
    "\n",
    "When two or more time series are cointegrated, it means they have a long run, statistically significant relationship."
   ]
  },
  {
   "cell_type": "code",
   "execution_count": 25,
   "metadata": {},
   "outputs": [
    {
     "name": "stdout",
     "output_type": "stream",
     "text": [
      "Name                 :: Test Stat > C(95%) ==> Significant?\n",
      "--------------------------------------------------------------------------------\n",
      "MSFT (return)        ::     117.61 > 24.28 ==> True\n",
      "SP500 (return)       ::      64.61 > 12.32 ==> True\n",
      "DTB3 (return)        ::      20.35 >  4.13 ==> True\n"
     ]
    }
   ],
   "source": [
    "def cointegration_test(df, alpha=0.05): \n",
    "    \"\"\"\n",
    "    Perform Johanson's Cointegration Test and Report Summary\n",
    "    \"\"\"\n",
    "    out = coint_johansen(df, -1,5)\n",
    "    d = {'0.90': 0, '0.95': 1, '0.99': 2}\n",
    "    traces = out.lr1\n",
    "    cvts = out.cvt[:, d[str(1-alpha)]]\n",
    "    \n",
    "    def adjust(val, length=6): return str(val).ljust(length)\n",
    "\n",
    "    print('{: <20} :: {: <9} ==> {:}'.format('Name', 'Test Stat > C(95%)', 'Significant?'))\n",
    "    print('-' * 80)\n",
    "    for col, trace, cvt in zip(df.columns, traces, cvts):\n",
    "        print('{: <20} ::  {:9.2f} > {:5.2f} ==> {:}'.format(col, trace, cvt, trace > cvt))\n",
    "       \n",
    "cointegration_test(merged_df[model_columns])"
   ]
  },
  {
   "cell_type": "markdown",
   "metadata": {},
   "source": [
    "Let's split the data into train and test sets."
   ]
  },
  {
   "cell_type": "code",
   "execution_count": 26,
   "metadata": {},
   "outputs": [
    {
     "name": "stdout",
     "output_type": "stream",
     "text": [
      "Training rows:   (255, 5)\n",
      " Testing rows:   (4, 5)\n"
     ]
    }
   ],
   "source": [
    "n_test = 4\n",
    "\n",
    "# Make a copy of the test set since we will add the predictions to it later on.\n",
    "train_df, test_df = merged_df[0:-n_test], merged_df[-n_test:].copy()\n",
    "\n",
    "print('Training rows:  ', train_df.shape)  \n",
    "print(' Testing rows:  ', test_df.shape)"
   ]
  },
  {
   "cell_type": "markdown",
   "metadata": {},
   "source": [
    "### Check for Stationarity\n",
    "\n",
    "Since the VAR model requires the time series you want to forecast to be stationary, it is customary to check all the time series in the system for stationarity.\n",
    "\n",
    "A stationary time series is one whose characteristics like mean and variance does not change over time.\n",
    "\n",
    "Use Augmented Dickey-Fuller Test (ADF Test) to test for stationarity."
   ]
  },
  {
   "cell_type": "code",
   "execution_count": 27,
   "metadata": {},
   "outputs": [],
   "source": [
    "def adfuller_test(series, signif=0.05, name='', verbose=False):\n",
    "    \"\"\"\n",
    "    Perform ADFuller to test for Stationarity of given series and print report.\n",
    "    \"\"\"\n",
    "    r = adfuller(series, autolag='AIC')\n",
    "    \n",
    "    output = {'test_statistic':round(r[0], 4), 'pvalue':round(r[1], 4), 'n_lags':round(r[2], 4), 'n_obs':r[3]}\n",
    "    p_value = output['pvalue'] \n",
    "\n",
    "    # Print Summary\n",
    "    print('ADF Test on {:}'.format(name))\n",
    "    print('-' * 80)\n",
    "    print('Null Hypothesis:  Data has unit root.  Non-Stationary.')\n",
    "    print('')\n",
    "    print(' Significance Level:  {:6.2f}'.format(signif))\n",
    "    print('     Test Statistic:  {:6.2f}'.format(output['test_statistic']))\n",
    "    print('    No. Lags Chosen:  {:6d}'.format(output['n_lags']))\n",
    "    print('')\n",
    "    \n",
    "    for key,val in r[4].items():\n",
    "        print(' Critical value {: <3}:  {:6.3f}'.format(key, val))\n",
    "\n",
    "    print('')\n",
    "    \n",
    "    if p_value <= signif:\n",
    "        print('P-Value = {:4.2f}.  Rejecting Null Hypothesis.'.format(p_value))\n",
    "        print('Series is Stationary.')\n",
    "    else:\n",
    "        print('P-Value = {:4.2f}.  Weak evidence to reject the Null Hypothesis.'.format(p_value))\n",
    "        print('Series is Non-Stationary.')"
   ]
  },
  {
   "cell_type": "code",
   "execution_count": 28,
   "metadata": {},
   "outputs": [
    {
     "name": "stdout",
     "output_type": "stream",
     "text": [
      "ADF Test on MSFT (return)\n",
      "--------------------------------------------------------------------------------\n",
      "Null Hypothesis:  Data has unit root.  Non-Stationary.\n",
      "\n",
      " Significance Level:    0.05\n",
      "     Test Statistic:  -13.50\n",
      "    No. Lags Chosen:       1\n",
      "\n",
      " Critical value 1% :  -3.456\n",
      " Critical value 5% :  -2.873\n",
      " Critical value 10%:  -2.573\n",
      "\n",
      "P-Value = 0.00.  Rejecting Null Hypothesis.\n",
      "Series is Stationary.\n",
      "\n",
      "\n",
      "ADF Test on SP500 (return)\n",
      "--------------------------------------------------------------------------------\n",
      "Null Hypothesis:  Data has unit root.  Non-Stationary.\n",
      "\n",
      " Significance Level:    0.05\n",
      "     Test Statistic:  -18.42\n",
      "    No. Lags Chosen:       0\n",
      "\n",
      " Critical value 1% :  -3.456\n",
      " Critical value 5% :  -2.873\n",
      " Critical value 10%:  -2.573\n",
      "\n",
      "P-Value = 0.00.  Rejecting Null Hypothesis.\n",
      "Series is Stationary.\n",
      "\n",
      "\n",
      "ADF Test on DTB3 (return)\n",
      "--------------------------------------------------------------------------------\n",
      "Null Hypothesis:  Data has unit root.  Non-Stationary.\n",
      "\n",
      " Significance Level:    0.05\n",
      "     Test Statistic:   -1.60\n",
      "    No. Lags Chosen:      14\n",
      "\n",
      " Critical value 1% :  -3.458\n",
      " Critical value 5% :  -2.874\n",
      " Critical value 10%:  -2.573\n",
      "\n",
      "P-Value = 0.49.  Weak evidence to reject the Null Hypothesis.\n",
      "Series is Non-Stationary.\n",
      "\n",
      "\n"
     ]
    }
   ],
   "source": [
    "for name, column in train_df[model_columns].iteritems():\n",
    "    adfuller_test(column, name=column.name)\n",
    "    print('\\n')"
   ]
  },
  {
   "cell_type": "markdown",
   "metadata": {},
   "source": [
    "All series are Stationary.  We can move forward with modeling."
   ]
  },
  {
   "cell_type": "code",
   "execution_count": 29,
   "metadata": {},
   "outputs": [
    {
     "name": "stderr",
     "output_type": "stream",
     "text": [
      "C:\\Users\\Craig\\AppData\\Local\\conda\\conda\\envs\\tensorflow\\lib\\site-packages\\statsmodels\\tsa\\base\\tsa_model.py:215: ValueWarning: An unsupported index was provided and will be ignored when e.g. forecasting.\n",
      "  ' ignored when e.g. forecasting.', ValueWarning)\n"
     ]
    }
   ],
   "source": [
    "model = VAR(train_df[model_columns])\n",
    "results = model.select_order(maxlags=max_lag)"
   ]
  },
  {
   "cell_type": "code",
   "execution_count": 30,
   "metadata": {},
   "outputs": [
    {
     "data": {
      "text/html": [
       "<table class=\"simpletable\">\n",
       "<caption>VAR Order Selection (* highlights the minimums)</caption>\n",
       "<tr>\n",
       "   <td></td>      <th>AIC</th>         <th>BIC</th>         <th>FPE</th>        <th>HQIC</th>    \n",
       "</tr>\n",
       "<tr>\n",
       "  <th>0</th>  <td>    -22.01*</td> <td>    -21.97*</td> <td> 2.766e-10*</td> <td>    -21.99*</td>\n",
       "</tr>\n",
       "<tr>\n",
       "  <th>1</th>  <td>    -22.00</td>  <td>    -21.83</td>  <td> 2.778e-10</td>  <td>    -21.93</td> \n",
       "</tr>\n",
       "<tr>\n",
       "  <th>2</th>  <td>    -21.96</td>  <td>    -21.66</td>  <td> 2.908e-10</td>  <td>    -21.84</td> \n",
       "</tr>\n",
       "<tr>\n",
       "  <th>3</th>  <td>    -21.93</td>  <td>    -21.50</td>  <td> 3.002e-10</td>  <td>    -21.75</td> \n",
       "</tr>\n",
       "<tr>\n",
       "  <th>4</th>  <td>    -21.90</td>  <td>    -21.34</td>  <td> 3.073e-10</td>  <td>    -21.68</td> \n",
       "</tr>\n",
       "<tr>\n",
       "  <th>5</th>  <td>    -21.88</td>  <td>    -21.19</td>  <td> 3.133e-10</td>  <td>    -21.61</td> \n",
       "</tr>\n",
       "<tr>\n",
       "  <th>6</th>  <td>    -21.85</td>  <td>    -21.04</td>  <td> 3.229e-10</td>  <td>    -21.52</td> \n",
       "</tr>\n",
       "<tr>\n",
       "  <th>7</th>  <td>    -21.80</td>  <td>    -20.85</td>  <td> 3.418e-10</td>  <td>    -21.42</td> \n",
       "</tr>\n",
       "<tr>\n",
       "  <th>8</th>  <td>    -21.80</td>  <td>    -20.72</td>  <td> 3.414e-10</td>  <td>    -21.37</td> \n",
       "</tr>\n",
       "<tr>\n",
       "  <th>9</th>  <td>    -21.77</td>  <td>    -20.56</td>  <td> 3.536e-10</td>  <td>    -21.28</td> \n",
       "</tr>\n",
       "<tr>\n",
       "  <th>10</th> <td>    -21.70</td>  <td>    -20.37</td>  <td> 3.766e-10</td>  <td>    -21.17</td> \n",
       "</tr>\n",
       "<tr>\n",
       "  <th>11</th> <td>    -21.68</td>  <td>    -20.21</td>  <td> 3.859e-10</td>  <td>    -21.09</td> \n",
       "</tr>\n",
       "<tr>\n",
       "  <th>12</th> <td>    -21.64</td>  <td>    -20.04</td>  <td> 4.042e-10</td>  <td>    -20.99</td> \n",
       "</tr>\n",
       "</table>"
      ],
      "text/plain": [
       "<class 'statsmodels.iolib.table.SimpleTable'>"
      ]
     },
     "execution_count": 30,
     "metadata": {},
     "output_type": "execute_result"
    }
   ],
   "source": [
    "results.summary()"
   ]
  },
  {
   "cell_type": "markdown",
   "metadata": {},
   "source": [
    "Choose lag 1 for the model."
   ]
  },
  {
   "cell_type": "code",
   "execution_count": 31,
   "metadata": {},
   "outputs": [
    {
     "data": {
      "text/plain": [
       "  Summary of Regression Results   \n",
       "==================================\n",
       "Model:                         VAR\n",
       "Method:                        OLS\n",
       "Date:           Sat, 25, Jan, 2020\n",
       "Time:                     13:04:54\n",
       "--------------------------------------------------------------------\n",
       "No. of Equations:         3.00000    BIC:                   -21.8084\n",
       "Nobs:                     254.000    HQIC:                  -21.9083\n",
       "Log likelihood:           1721.66    FPE:                2.85867e-10\n",
       "AIC:                     -21.9755    Det(Omega_mle):     2.72776e-10\n",
       "--------------------------------------------------------------------\n",
       "Results for equation MSFT (return)\n",
       "====================================================================================\n",
       "                       coefficient       std. error           t-stat            prob\n",
       "------------------------------------------------------------------------------------\n",
       "const                     0.005767         0.002015            2.862           0.004\n",
       "L1.MSFT (return)         -0.160449         0.093130           -1.723           0.085\n",
       "L1.SP500 (return)        -0.065407         0.150318           -0.435           0.663\n",
       "L1.DTB3 (return)          0.047113         0.048834            0.965           0.335\n",
       "====================================================================================\n",
       "\n",
       "Results for equation SP500 (return)\n",
       "====================================================================================\n",
       "                       coefficient       std. error           t-stat            prob\n",
       "------------------------------------------------------------------------------------\n",
       "const                     0.002032         0.001257            1.616           0.106\n",
       "L1.MSFT (return)         -0.031421         0.058092           -0.541           0.589\n",
       "L1.SP500 (return)        -0.106800         0.093764           -1.139           0.255\n",
       "L1.DTB3 (return)          0.008671         0.030461            0.285           0.776\n",
       "====================================================================================\n",
       "\n",
       "Results for equation DTB3 (return)\n",
       "====================================================================================\n",
       "                       coefficient       std. error           t-stat            prob\n",
       "------------------------------------------------------------------------------------\n",
       "const                     0.004889         0.002600            1.880           0.060\n",
       "L1.MSFT (return)          0.157315         0.120164            1.309           0.190\n",
       "L1.SP500 (return)        -0.077893         0.193953           -0.402           0.688\n",
       "L1.DTB3 (return)          0.079444         0.063009            1.261           0.207\n",
       "====================================================================================\n",
       "\n",
       "Correlation matrix of residuals\n",
       "                  MSFT (return)  SP500 (return)  DTB3 (return)\n",
       "MSFT (return)          1.000000        0.741911      -0.055188\n",
       "SP500 (return)         0.741911        1.000000      -0.027691\n",
       "DTB3 (return)         -0.055188       -0.027691       1.000000\n",
       "\n"
      ]
     },
     "execution_count": 31,
     "metadata": {},
     "output_type": "execute_result"
    }
   ],
   "source": [
    "model_fitted = model.fit(1)\n",
    "model_fitted.summary()"
   ]
  },
  {
   "cell_type": "markdown",
   "metadata": {},
   "source": [
    "### Check for Serial Correlation of Residuals (Errors) using Durbin Watson Statistic\n",
    "\n",
    "If there is any correlation left in the residuals, then, there is some pattern in the time series that is still left to be explained by the model. In that case, the typical course of action is to either increase the order of the model or induce more predictors into the system or look for a different algorithm to model the time series."
   ]
  },
  {
   "cell_type": "code",
   "execution_count": 32,
   "metadata": {},
   "outputs": [
    {
     "name": "stdout",
     "output_type": "stream",
     "text": [
      "MSFT (return)  :  2.03\n",
      "SP500 (return) :  2.02\n",
      "DTB3 (return)  :  1.99\n"
     ]
    }
   ],
   "source": [
    "output = durbin_watson(model_fitted.resid)\n",
    "\n",
    "for col,val in zip(model_columns, output):\n",
    "    print('{: <15}:  {:4.2f}'.format(col, val))"
   ]
  },
  {
   "cell_type": "markdown",
   "metadata": {},
   "source": [
    "The closer it is to the value 2, then there is no significant serial correlation. The closer to 0, there is a positive serial correlation, and the closer it is to 4 implies negative serial correlation.\n",
    "\n",
    "These values look acceptable so let's try a forecast."
   ]
  },
  {
   "cell_type": "code",
   "execution_count": 33,
   "metadata": {},
   "outputs": [
    {
     "data": {
      "text/plain": [
       "1"
      ]
     },
     "execution_count": 33,
     "metadata": {},
     "output_type": "execute_result"
    }
   ],
   "source": [
    "lag_order = model_fitted.k_ar\n",
    "lag_order"
   ]
  },
  {
   "cell_type": "code",
   "execution_count": 34,
   "metadata": {},
   "outputs": [
    {
     "data": {
      "text/plain": [
       "array([[0.00929938, 0.00371184, 0.04      ]])"
      ]
     },
     "execution_count": 34,
     "metadata": {},
     "output_type": "execute_result"
    }
   ],
   "source": [
    "forecast_df = train_df[model_columns].values[-lag_order:]\n",
    "forecast_df"
   ]
  },
  {
   "cell_type": "code",
   "execution_count": 35,
   "metadata": {},
   "outputs": [],
   "source": [
    "predictions = model_fitted.forecast(y=forecast_df, steps=n_test)"
   ]
  },
  {
   "cell_type": "code",
   "execution_count": 36,
   "metadata": {},
   "outputs": [
    {
     "data": {
      "text/plain": [
       "array([[0.00591669, 0.00168983, 0.00924039],\n",
       "       [0.0051425 , 0.00174537, 0.00642208],\n",
       "       [0.0051303 , 0.00173933, 0.00607206],\n",
       "       [0.00511617, 0.00173732, 0.00604281]])"
      ]
     },
     "execution_count": 36,
     "metadata": {},
     "output_type": "execute_result"
    }
   ],
   "source": [
    "predictions"
   ]
  },
  {
   "cell_type": "code",
   "execution_count": 37,
   "metadata": {},
   "outputs": [
    {
     "data": {
      "text/html": [
       "<div>\n",
       "<style scoped>\n",
       "    .dataframe tbody tr th:only-of-type {\n",
       "        vertical-align: middle;\n",
       "    }\n",
       "\n",
       "    .dataframe tbody tr th {\n",
       "        vertical-align: top;\n",
       "    }\n",
       "\n",
       "    .dataframe thead th {\n",
       "        text-align: right;\n",
       "    }\n",
       "</style>\n",
       "<table border=\"1\" class=\"dataframe\">\n",
       "  <thead>\n",
       "    <tr style=\"text-align: right;\">\n",
       "      <th></th>\n",
       "      <th>Year</th>\n",
       "      <th>Week_Number</th>\n",
       "      <th>MSFT (return)</th>\n",
       "      <th>SP500 (return)</th>\n",
       "      <th>DTB3 (return)</th>\n",
       "    </tr>\n",
       "  </thead>\n",
       "  <tbody>\n",
       "    <tr>\n",
       "      <th>257</th>\n",
       "      <td>2019</td>\n",
       "      <td>49</td>\n",
       "      <td>-0.011171</td>\n",
       "      <td>-0.006329</td>\n",
       "      <td>-0.01</td>\n",
       "    </tr>\n",
       "    <tr>\n",
       "      <th>258</th>\n",
       "      <td>2019</td>\n",
       "      <td>50</td>\n",
       "      <td>0.012030</td>\n",
       "      <td>0.007069</td>\n",
       "      <td>-0.06</td>\n",
       "    </tr>\n",
       "    <tr>\n",
       "      <th>259</th>\n",
       "      <td>2019</td>\n",
       "      <td>51</td>\n",
       "      <td>0.027178</td>\n",
       "      <td>0.017540</td>\n",
       "      <td>0.03</td>\n",
       "    </tr>\n",
       "    <tr>\n",
       "      <th>260</th>\n",
       "      <td>2019</td>\n",
       "      <td>52</td>\n",
       "      <td>0.012015</td>\n",
       "      <td>0.010151</td>\n",
       "      <td>0.02</td>\n",
       "    </tr>\n",
       "  </tbody>\n",
       "</table>\n",
       "</div>"
      ],
      "text/plain": [
       "     Year  Week_Number  MSFT (return)  SP500 (return)  DTB3 (return)\n",
       "257  2019           49      -0.011171       -0.006329          -0.01\n",
       "258  2019           50       0.012030        0.007069          -0.06\n",
       "259  2019           51       0.027178        0.017540           0.03\n",
       "260  2019           52       0.012015        0.010151           0.02"
      ]
     },
     "execution_count": 37,
     "metadata": {},
     "output_type": "execute_result"
    }
   ],
   "source": [
    "test_df"
   ]
  },
  {
   "cell_type": "code",
   "execution_count": 38,
   "metadata": {},
   "outputs": [],
   "source": [
    "test_df['MSFT (return) (pred)'] = [x[0] for x in predictions]\n",
    "test_df['SP500 (return) (pred)'] = [x[1] for x in predictions]\n",
    "test_df['DTB3 (return) (pred)'] = [x[2] for x in predictions]"
   ]
  },
  {
   "cell_type": "code",
   "execution_count": 39,
   "metadata": {},
   "outputs": [
    {
     "data": {
      "text/html": [
       "<div>\n",
       "<style scoped>\n",
       "    .dataframe tbody tr th:only-of-type {\n",
       "        vertical-align: middle;\n",
       "    }\n",
       "\n",
       "    .dataframe tbody tr th {\n",
       "        vertical-align: top;\n",
       "    }\n",
       "\n",
       "    .dataframe thead th {\n",
       "        text-align: right;\n",
       "    }\n",
       "</style>\n",
       "<table border=\"1\" class=\"dataframe\">\n",
       "  <thead>\n",
       "    <tr style=\"text-align: right;\">\n",
       "      <th></th>\n",
       "      <th>Year</th>\n",
       "      <th>Week_Number</th>\n",
       "      <th>MSFT (return)</th>\n",
       "      <th>SP500 (return)</th>\n",
       "      <th>DTB3 (return)</th>\n",
       "      <th>MSFT (return) (pred)</th>\n",
       "      <th>SP500 (return) (pred)</th>\n",
       "      <th>DTB3 (return) (pred)</th>\n",
       "    </tr>\n",
       "  </thead>\n",
       "  <tbody>\n",
       "    <tr>\n",
       "      <th>257</th>\n",
       "      <td>2019</td>\n",
       "      <td>49</td>\n",
       "      <td>-0.011171</td>\n",
       "      <td>-0.006329</td>\n",
       "      <td>-0.01</td>\n",
       "      <td>0.005917</td>\n",
       "      <td>0.001690</td>\n",
       "      <td>0.009240</td>\n",
       "    </tr>\n",
       "    <tr>\n",
       "      <th>258</th>\n",
       "      <td>2019</td>\n",
       "      <td>50</td>\n",
       "      <td>0.012030</td>\n",
       "      <td>0.007069</td>\n",
       "      <td>-0.06</td>\n",
       "      <td>0.005142</td>\n",
       "      <td>0.001745</td>\n",
       "      <td>0.006422</td>\n",
       "    </tr>\n",
       "    <tr>\n",
       "      <th>259</th>\n",
       "      <td>2019</td>\n",
       "      <td>51</td>\n",
       "      <td>0.027178</td>\n",
       "      <td>0.017540</td>\n",
       "      <td>0.03</td>\n",
       "      <td>0.005130</td>\n",
       "      <td>0.001739</td>\n",
       "      <td>0.006072</td>\n",
       "    </tr>\n",
       "    <tr>\n",
       "      <th>260</th>\n",
       "      <td>2019</td>\n",
       "      <td>52</td>\n",
       "      <td>0.012015</td>\n",
       "      <td>0.010151</td>\n",
       "      <td>0.02</td>\n",
       "      <td>0.005116</td>\n",
       "      <td>0.001737</td>\n",
       "      <td>0.006043</td>\n",
       "    </tr>\n",
       "  </tbody>\n",
       "</table>\n",
       "</div>"
      ],
      "text/plain": [
       "     Year  Week_Number  MSFT (return)  SP500 (return)  DTB3 (return)  \\\n",
       "257  2019           49      -0.011171       -0.006329          -0.01   \n",
       "258  2019           50       0.012030        0.007069          -0.06   \n",
       "259  2019           51       0.027178        0.017540           0.03   \n",
       "260  2019           52       0.012015        0.010151           0.02   \n",
       "\n",
       "     MSFT (return) (pred)  SP500 (return) (pred)  DTB3 (return) (pred)  \n",
       "257              0.005917               0.001690              0.009240  \n",
       "258              0.005142               0.001745              0.006422  \n",
       "259              0.005130               0.001739              0.006072  \n",
       "260              0.005116               0.001737              0.006043  "
      ]
     },
     "execution_count": 39,
     "metadata": {},
     "output_type": "execute_result"
    }
   ],
   "source": [
    "test_df"
   ]
  },
  {
   "cell_type": "code",
   "execution_count": 44,
   "metadata": {},
   "outputs": [],
   "source": [
    "for col in [c for c in test_df.columns if '(return)' in c]:\n",
    "    test_df[col] = np.exp(test_df[col])"
   ]
  },
  {
   "cell_type": "code",
   "execution_count": 45,
   "metadata": {},
   "outputs": [
    {
     "data": {
      "text/html": [
       "<div>\n",
       "<style scoped>\n",
       "    .dataframe tbody tr th:only-of-type {\n",
       "        vertical-align: middle;\n",
       "    }\n",
       "\n",
       "    .dataframe tbody tr th {\n",
       "        vertical-align: top;\n",
       "    }\n",
       "\n",
       "    .dataframe thead th {\n",
       "        text-align: right;\n",
       "    }\n",
       "</style>\n",
       "<table border=\"1\" class=\"dataframe\">\n",
       "  <thead>\n",
       "    <tr style=\"text-align: right;\">\n",
       "      <th></th>\n",
       "      <th>Year</th>\n",
       "      <th>Week_Number</th>\n",
       "      <th>MSFT (return)</th>\n",
       "      <th>SP500 (return)</th>\n",
       "      <th>DTB3 (return)</th>\n",
       "      <th>MSFT (return) (pred)</th>\n",
       "      <th>SP500 (return) (pred)</th>\n",
       "      <th>DTB3 (return) (pred)</th>\n",
       "    </tr>\n",
       "  </thead>\n",
       "  <tbody>\n",
       "    <tr>\n",
       "      <th>257</th>\n",
       "      <td>2019</td>\n",
       "      <td>49</td>\n",
       "      <td>0.988891</td>\n",
       "      <td>0.993691</td>\n",
       "      <td>0.990050</td>\n",
       "      <td>1.005934</td>\n",
       "      <td>1.001691</td>\n",
       "      <td>1.009283</td>\n",
       "    </tr>\n",
       "    <tr>\n",
       "      <th>258</th>\n",
       "      <td>2019</td>\n",
       "      <td>50</td>\n",
       "      <td>1.012103</td>\n",
       "      <td>1.007094</td>\n",
       "      <td>0.941765</td>\n",
       "      <td>1.005156</td>\n",
       "      <td>1.001747</td>\n",
       "      <td>1.006443</td>\n",
       "    </tr>\n",
       "    <tr>\n",
       "      <th>259</th>\n",
       "      <td>2019</td>\n",
       "      <td>51</td>\n",
       "      <td>1.027550</td>\n",
       "      <td>1.017695</td>\n",
       "      <td>1.030455</td>\n",
       "      <td>1.005143</td>\n",
       "      <td>1.001741</td>\n",
       "      <td>1.006091</td>\n",
       "    </tr>\n",
       "    <tr>\n",
       "      <th>260</th>\n",
       "      <td>2019</td>\n",
       "      <td>52</td>\n",
       "      <td>1.012088</td>\n",
       "      <td>1.010202</td>\n",
       "      <td>1.020201</td>\n",
       "      <td>1.005129</td>\n",
       "      <td>1.001739</td>\n",
       "      <td>1.006061</td>\n",
       "    </tr>\n",
       "  </tbody>\n",
       "</table>\n",
       "</div>"
      ],
      "text/plain": [
       "     Year  Week_Number  MSFT (return)  SP500 (return)  DTB3 (return)  \\\n",
       "257  2019           49       0.988891        0.993691       0.990050   \n",
       "258  2019           50       1.012103        1.007094       0.941765   \n",
       "259  2019           51       1.027550        1.017695       1.030455   \n",
       "260  2019           52       1.012088        1.010202       1.020201   \n",
       "\n",
       "     MSFT (return) (pred)  SP500 (return) (pred)  DTB3 (return) (pred)  \n",
       "257              1.005934               1.001691              1.009283  \n",
       "258              1.005156               1.001747              1.006443  \n",
       "259              1.005143               1.001741              1.006091  \n",
       "260              1.005129               1.001739              1.006061  "
      ]
     },
     "execution_count": 45,
     "metadata": {},
     "output_type": "execute_result"
    }
   ],
   "source": [
    "test_df"
   ]
  },
  {
   "cell_type": "code",
   "execution_count": 47,
   "metadata": {},
   "outputs": [
    {
     "data": {
      "text/html": [
       "<div>\n",
       "<style scoped>\n",
       "    .dataframe tbody tr th:only-of-type {\n",
       "        vertical-align: middle;\n",
       "    }\n",
       "\n",
       "    .dataframe tbody tr th {\n",
       "        vertical-align: top;\n",
       "    }\n",
       "\n",
       "    .dataframe thead th {\n",
       "        text-align: right;\n",
       "    }\n",
       "</style>\n",
       "<table border=\"1\" class=\"dataframe\">\n",
       "  <thead>\n",
       "    <tr style=\"text-align: right;\">\n",
       "      <th></th>\n",
       "      <th>Year</th>\n",
       "      <th>Week_Number</th>\n",
       "      <th>MSFT (return)</th>\n",
       "      <th>SP500 (return)</th>\n",
       "      <th>DTB3 (return)</th>\n",
       "      <th>MSFT (return) (pred)</th>\n",
       "      <th>SP500 (return) (pred)</th>\n",
       "      <th>DTB3 (return) (pred)</th>\n",
       "      <th>Price</th>\n",
       "    </tr>\n",
       "  </thead>\n",
       "  <tbody>\n",
       "    <tr>\n",
       "      <th>0</th>\n",
       "      <td>2019</td>\n",
       "      <td>49</td>\n",
       "      <td>0.988891</td>\n",
       "      <td>0.993691</td>\n",
       "      <td>0.990050</td>\n",
       "      <td>1.005934</td>\n",
       "      <td>1.001691</td>\n",
       "      <td>1.009283</td>\n",
       "      <td>149.550003</td>\n",
       "    </tr>\n",
       "    <tr>\n",
       "      <th>1</th>\n",
       "      <td>2019</td>\n",
       "      <td>50</td>\n",
       "      <td>1.012103</td>\n",
       "      <td>1.007094</td>\n",
       "      <td>0.941765</td>\n",
       "      <td>1.005156</td>\n",
       "      <td>1.001747</td>\n",
       "      <td>1.006443</td>\n",
       "      <td>151.360001</td>\n",
       "    </tr>\n",
       "    <tr>\n",
       "      <th>2</th>\n",
       "      <td>2019</td>\n",
       "      <td>51</td>\n",
       "      <td>1.027550</td>\n",
       "      <td>1.017695</td>\n",
       "      <td>1.030455</td>\n",
       "      <td>1.005143</td>\n",
       "      <td>1.001741</td>\n",
       "      <td>1.006091</td>\n",
       "      <td>155.529999</td>\n",
       "    </tr>\n",
       "    <tr>\n",
       "      <th>3</th>\n",
       "      <td>2019</td>\n",
       "      <td>52</td>\n",
       "      <td>1.012088</td>\n",
       "      <td>1.010202</td>\n",
       "      <td>1.020201</td>\n",
       "      <td>1.005129</td>\n",
       "      <td>1.001739</td>\n",
       "      <td>1.006061</td>\n",
       "      <td>157.410004</td>\n",
       "    </tr>\n",
       "  </tbody>\n",
       "</table>\n",
       "</div>"
      ],
      "text/plain": [
       "   Year  Week_Number  MSFT (return)  SP500 (return)  DTB3 (return)  \\\n",
       "0  2019           49       0.988891        0.993691       0.990050   \n",
       "1  2019           50       1.012103        1.007094       0.941765   \n",
       "2  2019           51       1.027550        1.017695       1.030455   \n",
       "3  2019           52       1.012088        1.010202       1.020201   \n",
       "\n",
       "   MSFT (return) (pred)  SP500 (return) (pred)  DTB3 (return) (pred)  \\\n",
       "0              1.005934               1.001691              1.009283   \n",
       "1              1.005156               1.001747              1.006443   \n",
       "2              1.005143               1.001741              1.006091   \n",
       "3              1.005129               1.001739              1.006061   \n",
       "\n",
       "        Price  \n",
       "0  149.550003  \n",
       "1  151.360001  \n",
       "2  155.529999  \n",
       "3  157.410004  "
      ]
     },
     "execution_count": 47,
     "metadata": {},
     "output_type": "execute_result"
    }
   ],
   "source": [
    "test_df = test_df.merge(msft[['Year', 'Week_Number', 'Price']], on=['Year', 'Week_Number'], how='left')\n",
    "test_df"
   ]
  },
  {
   "cell_type": "code",
   "execution_count": 48,
   "metadata": {},
   "outputs": [
    {
     "data": {
      "text/html": [
       "<div>\n",
       "<style scoped>\n",
       "    .dataframe tbody tr th:only-of-type {\n",
       "        vertical-align: middle;\n",
       "    }\n",
       "\n",
       "    .dataframe tbody tr th {\n",
       "        vertical-align: top;\n",
       "    }\n",
       "\n",
       "    .dataframe thead th {\n",
       "        text-align: right;\n",
       "    }\n",
       "</style>\n",
       "<table border=\"1\" class=\"dataframe\">\n",
       "  <thead>\n",
       "    <tr style=\"text-align: right;\">\n",
       "      <th></th>\n",
       "      <th>Year</th>\n",
       "      <th>Week_Number</th>\n",
       "      <th>MSFT (return)</th>\n",
       "      <th>SP500 (return)</th>\n",
       "      <th>DTB3 (return)</th>\n",
       "      <th>MSFT (return) (pred)</th>\n",
       "      <th>SP500 (return) (pred)</th>\n",
       "      <th>DTB3 (return) (pred)</th>\n",
       "      <th>Price</th>\n",
       "      <th>Price (Next Week)</th>\n",
       "    </tr>\n",
       "  </thead>\n",
       "  <tbody>\n",
       "    <tr>\n",
       "      <th>0</th>\n",
       "      <td>2019</td>\n",
       "      <td>49</td>\n",
       "      <td>0.988891</td>\n",
       "      <td>0.993691</td>\n",
       "      <td>0.990050</td>\n",
       "      <td>1.005934</td>\n",
       "      <td>1.001691</td>\n",
       "      <td>1.009283</td>\n",
       "      <td>149.550003</td>\n",
       "      <td>150.437467</td>\n",
       "    </tr>\n",
       "    <tr>\n",
       "      <th>1</th>\n",
       "      <td>2019</td>\n",
       "      <td>50</td>\n",
       "      <td>1.012103</td>\n",
       "      <td>1.007094</td>\n",
       "      <td>0.941765</td>\n",
       "      <td>1.005156</td>\n",
       "      <td>1.001747</td>\n",
       "      <td>1.006443</td>\n",
       "      <td>151.360001</td>\n",
       "      <td>152.140374</td>\n",
       "    </tr>\n",
       "    <tr>\n",
       "      <th>2</th>\n",
       "      <td>2019</td>\n",
       "      <td>51</td>\n",
       "      <td>1.027550</td>\n",
       "      <td>1.017695</td>\n",
       "      <td>1.030455</td>\n",
       "      <td>1.005143</td>\n",
       "      <td>1.001741</td>\n",
       "      <td>1.006091</td>\n",
       "      <td>155.529999</td>\n",
       "      <td>156.329965</td>\n",
       "    </tr>\n",
       "    <tr>\n",
       "      <th>3</th>\n",
       "      <td>2019</td>\n",
       "      <td>52</td>\n",
       "      <td>1.012088</td>\n",
       "      <td>1.010202</td>\n",
       "      <td>1.020201</td>\n",
       "      <td>1.005129</td>\n",
       "      <td>1.001739</td>\n",
       "      <td>1.006061</td>\n",
       "      <td>157.410004</td>\n",
       "      <td>158.217403</td>\n",
       "    </tr>\n",
       "  </tbody>\n",
       "</table>\n",
       "</div>"
      ],
      "text/plain": [
       "   Year  Week_Number  MSFT (return)  SP500 (return)  DTB3 (return)  \\\n",
       "0  2019           49       0.988891        0.993691       0.990050   \n",
       "1  2019           50       1.012103        1.007094       0.941765   \n",
       "2  2019           51       1.027550        1.017695       1.030455   \n",
       "3  2019           52       1.012088        1.010202       1.020201   \n",
       "\n",
       "   MSFT (return) (pred)  SP500 (return) (pred)  DTB3 (return) (pred)  \\\n",
       "0              1.005934               1.001691              1.009283   \n",
       "1              1.005156               1.001747              1.006443   \n",
       "2              1.005143               1.001741              1.006091   \n",
       "3              1.005129               1.001739              1.006061   \n",
       "\n",
       "        Price  Price (Next Week)  \n",
       "0  149.550003         150.437467  \n",
       "1  151.360001         152.140374  \n",
       "2  155.529999         156.329965  \n",
       "3  157.410004         158.217403  "
      ]
     },
     "execution_count": 48,
     "metadata": {},
     "output_type": "execute_result"
    }
   ],
   "source": [
    "test_df['Price (Next Week)'] = test_df['Price'] * test_df['MSFT (return) (pred)']\n",
    "test_df"
   ]
  },
  {
   "cell_type": "code",
   "execution_count": null,
   "metadata": {
    "collapsed": true
   },
   "outputs": [],
   "source": []
  }
 ],
 "metadata": {
  "kernelspec": {
   "display_name": "Python 3",
   "language": "python",
   "name": "python3"
  },
  "language_info": {
   "codemirror_mode": {
    "name": "ipython",
    "version": 3
   },
   "file_extension": ".py",
   "mimetype": "text/x-python",
   "name": "python",
   "nbconvert_exporter": "python",
   "pygments_lexer": "ipython3",
   "version": "3.6.2"
  }
 },
 "nbformat": 4,
 "nbformat_minor": 2
}
