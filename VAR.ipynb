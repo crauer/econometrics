{
 "cells": [
  {
   "cell_type": "markdown",
   "metadata": {},
   "source": [
    "# Vector Autoregressive Models\n",
    "\n",
    "Autoregression is a time series model that uses observations from previous time steps as input to a regression equation to predict the value at the next time step."
   ]
  },
  {
   "cell_type": "code",
   "execution_count": 1,
   "metadata": {
    "collapsed": true
   },
   "outputs": [],
   "source": [
    "%matplotlib inline"
   ]
  },
  {
   "cell_type": "code",
   "execution_count": 2,
   "metadata": {
    "scrolled": true
   },
   "outputs": [],
   "source": [
    "import matplotlib.pyplot as plt\n",
    "import numpy as np\n",
    "import pandas_datareader.data as web\n",
    "\n",
    "from datetime import datetime\n",
    "from statsmodels.tsa.api import VAR"
   ]
  },
  {
   "cell_type": "code",
   "execution_count": 3,
   "metadata": {
    "collapsed": true
   },
   "outputs": [],
   "source": [
    "start_date = datetime(2014, 1, 1)\n",
    "end_date = datetime(2015, 1, 1)\n",
    "\n",
    "with open('quandl.token', 'r') as file:\n",
    "    quandl_token = file.read().replace('\\n', '')"
   ]
  },
  {
   "cell_type": "markdown",
   "metadata": {},
   "source": [
    "Pull the US Treasury bond interest rates from the FED."
   ]
  },
  {
   "cell_type": "code",
   "execution_count": 4,
   "metadata": {},
   "outputs": [
    {
     "data": {
      "text/html": [
       "<div>\n",
       "<style scoped>\n",
       "    .dataframe tbody tr th:only-of-type {\n",
       "        vertical-align: middle;\n",
       "    }\n",
       "\n",
       "    .dataframe tbody tr th {\n",
       "        vertical-align: top;\n",
       "    }\n",
       "\n",
       "    .dataframe thead th {\n",
       "        text-align: right;\n",
       "    }\n",
       "</style>\n",
       "<table border=\"1\" class=\"dataframe\">\n",
       "  <thead>\n",
       "    <tr style=\"text-align: right;\">\n",
       "      <th></th>\n",
       "      <th>Date</th>\n",
       "      <th>DTB3</th>\n",
       "    </tr>\n",
       "  </thead>\n",
       "  <tbody>\n",
       "    <tr>\n",
       "      <th>0</th>\n",
       "      <td>2014-01-01</td>\n",
       "      <td>NaN</td>\n",
       "    </tr>\n",
       "    <tr>\n",
       "      <th>1</th>\n",
       "      <td>2014-01-02</td>\n",
       "      <td>0.07</td>\n",
       "    </tr>\n",
       "    <tr>\n",
       "      <th>2</th>\n",
       "      <td>2014-01-03</td>\n",
       "      <td>0.07</td>\n",
       "    </tr>\n",
       "    <tr>\n",
       "      <th>3</th>\n",
       "      <td>2014-01-06</td>\n",
       "      <td>0.05</td>\n",
       "    </tr>\n",
       "    <tr>\n",
       "      <th>4</th>\n",
       "      <td>2014-01-07</td>\n",
       "      <td>0.04</td>\n",
       "    </tr>\n",
       "  </tbody>\n",
       "</table>\n",
       "</div>"
      ],
      "text/plain": [
       "        Date  DTB3\n",
       "0 2014-01-01   NaN\n",
       "1 2014-01-02  0.07\n",
       "2 2014-01-03  0.07\n",
       "3 2014-01-06  0.05\n",
       "4 2014-01-07  0.04"
      ]
     },
     "execution_count": 4,
     "metadata": {},
     "output_type": "execute_result"
    }
   ],
   "source": [
    "dtb3 = web.DataReader('DTB3', 'fred', start_date, end_date).reset_index()\n",
    "dtb3.columns = ['Date', 'DTB3']\n",
    "\n",
    "dtb3.head(5)"
   ]
  },
  {
   "cell_type": "markdown",
   "metadata": {},
   "source": [
    "Pull the returns for a single equity...in this case Microsoft."
   ]
  },
  {
   "cell_type": "code",
   "execution_count": 5,
   "metadata": {},
   "outputs": [
    {
     "data": {
      "text/html": [
       "<div>\n",
       "<style scoped>\n",
       "    .dataframe tbody tr th:only-of-type {\n",
       "        vertical-align: middle;\n",
       "    }\n",
       "\n",
       "    .dataframe tbody tr th {\n",
       "        vertical-align: top;\n",
       "    }\n",
       "\n",
       "    .dataframe thead th {\n",
       "        text-align: right;\n",
       "    }\n",
       "</style>\n",
       "<table border=\"1\" class=\"dataframe\">\n",
       "  <thead>\n",
       "    <tr style=\"text-align: right;\">\n",
       "      <th></th>\n",
       "      <th>Date</th>\n",
       "      <th>Open</th>\n",
       "      <th>High</th>\n",
       "      <th>Low</th>\n",
       "      <th>Close</th>\n",
       "      <th>Volume</th>\n",
       "      <th>ExDividend</th>\n",
       "      <th>SplitRatio</th>\n",
       "      <th>AdjOpen</th>\n",
       "      <th>AdjHigh</th>\n",
       "      <th>AdjLow</th>\n",
       "      <th>AdjClose</th>\n",
       "      <th>AdjVolume</th>\n",
       "    </tr>\n",
       "  </thead>\n",
       "  <tbody>\n",
       "    <tr>\n",
       "      <th>0</th>\n",
       "      <td>2014-12-31</td>\n",
       "      <td>46.73</td>\n",
       "      <td>47.44</td>\n",
       "      <td>46.45</td>\n",
       "      <td>46.45</td>\n",
       "      <td>21552450.0</td>\n",
       "      <td>0.0</td>\n",
       "      <td>1.0</td>\n",
       "      <td>43.316504</td>\n",
       "      <td>43.974640</td>\n",
       "      <td>43.056957</td>\n",
       "      <td>43.056957</td>\n",
       "      <td>21552450.0</td>\n",
       "    </tr>\n",
       "    <tr>\n",
       "      <th>1</th>\n",
       "      <td>2014-12-30</td>\n",
       "      <td>47.44</td>\n",
       "      <td>47.62</td>\n",
       "      <td>46.84</td>\n",
       "      <td>47.02</td>\n",
       "      <td>16384692.0</td>\n",
       "      <td>0.0</td>\n",
       "      <td>1.0</td>\n",
       "      <td>43.974640</td>\n",
       "      <td>44.141492</td>\n",
       "      <td>43.418469</td>\n",
       "      <td>43.585320</td>\n",
       "      <td>16384692.0</td>\n",
       "    </tr>\n",
       "    <tr>\n",
       "      <th>2</th>\n",
       "      <td>2014-12-29</td>\n",
       "      <td>47.70</td>\n",
       "      <td>47.78</td>\n",
       "      <td>47.26</td>\n",
       "      <td>47.45</td>\n",
       "      <td>14439518.0</td>\n",
       "      <td>0.0</td>\n",
       "      <td>1.0</td>\n",
       "      <td>44.215648</td>\n",
       "      <td>44.289804</td>\n",
       "      <td>43.807789</td>\n",
       "      <td>43.983910</td>\n",
       "      <td>14439518.0</td>\n",
       "    </tr>\n",
       "    <tr>\n",
       "      <th>3</th>\n",
       "      <td>2014-12-26</td>\n",
       "      <td>48.41</td>\n",
       "      <td>48.41</td>\n",
       "      <td>47.82</td>\n",
       "      <td>47.88</td>\n",
       "      <td>13197817.0</td>\n",
       "      <td>0.0</td>\n",
       "      <td>1.0</td>\n",
       "      <td>44.873784</td>\n",
       "      <td>44.873784</td>\n",
       "      <td>44.326882</td>\n",
       "      <td>44.382499</td>\n",
       "      <td>13197817.0</td>\n",
       "    </tr>\n",
       "    <tr>\n",
       "      <th>4</th>\n",
       "      <td>2014-12-24</td>\n",
       "      <td>48.64</td>\n",
       "      <td>48.64</td>\n",
       "      <td>48.08</td>\n",
       "      <td>48.14</td>\n",
       "      <td>11442790.0</td>\n",
       "      <td>0.0</td>\n",
       "      <td>1.0</td>\n",
       "      <td>45.086984</td>\n",
       "      <td>45.086984</td>\n",
       "      <td>44.567890</td>\n",
       "      <td>44.623507</td>\n",
       "      <td>11442790.0</td>\n",
       "    </tr>\n",
       "  </tbody>\n",
       "</table>\n",
       "</div>"
      ],
      "text/plain": [
       "        Date   Open   High    Low  Close      Volume  ExDividend  SplitRatio  \\\n",
       "0 2014-12-31  46.73  47.44  46.45  46.45  21552450.0         0.0         1.0   \n",
       "1 2014-12-30  47.44  47.62  46.84  47.02  16384692.0         0.0         1.0   \n",
       "2 2014-12-29  47.70  47.78  47.26  47.45  14439518.0         0.0         1.0   \n",
       "3 2014-12-26  48.41  48.41  47.82  47.88  13197817.0         0.0         1.0   \n",
       "4 2014-12-24  48.64  48.64  48.08  48.14  11442790.0         0.0         1.0   \n",
       "\n",
       "     AdjOpen    AdjHigh     AdjLow   AdjClose   AdjVolume  \n",
       "0  43.316504  43.974640  43.056957  43.056957  21552450.0  \n",
       "1  43.974640  44.141492  43.418469  43.585320  16384692.0  \n",
       "2  44.215648  44.289804  43.807789  43.983910  14439518.0  \n",
       "3  44.873784  44.873784  44.326882  44.382499  13197817.0  \n",
       "4  45.086984  45.086984  44.567890  44.623507  11442790.0  "
      ]
     },
     "execution_count": 5,
     "metadata": {},
     "output_type": "execute_result"
    }
   ],
   "source": [
    "msft = web.DataReader('MSFT.US', 'quandl', start_date, end_date, api_key=quandl_token).reset_index()\n",
    "msft.head(5)"
   ]
  },
  {
   "cell_type": "markdown",
   "metadata": {},
   "source": [
    "Pull the returns for the S&P stock index as an indicator of the overall equity market."
   ]
  },
  {
   "cell_type": "code",
   "execution_count": 6,
   "metadata": {},
   "outputs": [
    {
     "data": {
      "text/html": [
       "<div>\n",
       "<style scoped>\n",
       "    .dataframe tbody tr th:only-of-type {\n",
       "        vertical-align: middle;\n",
       "    }\n",
       "\n",
       "    .dataframe tbody tr th {\n",
       "        vertical-align: top;\n",
       "    }\n",
       "\n",
       "    .dataframe thead th {\n",
       "        text-align: right;\n",
       "    }\n",
       "</style>\n",
       "<table border=\"1\" class=\"dataframe\">\n",
       "  <thead>\n",
       "    <tr style=\"text-align: right;\">\n",
       "      <th></th>\n",
       "      <th>Date</th>\n",
       "      <th>SP500</th>\n",
       "    </tr>\n",
       "  </thead>\n",
       "  <tbody>\n",
       "    <tr>\n",
       "      <th>0</th>\n",
       "      <td>2014-01-01</td>\n",
       "      <td>NaN</td>\n",
       "    </tr>\n",
       "    <tr>\n",
       "      <th>1</th>\n",
       "      <td>2014-01-02</td>\n",
       "      <td>1831.98</td>\n",
       "    </tr>\n",
       "    <tr>\n",
       "      <th>2</th>\n",
       "      <td>2014-01-03</td>\n",
       "      <td>1831.37</td>\n",
       "    </tr>\n",
       "    <tr>\n",
       "      <th>3</th>\n",
       "      <td>2014-01-06</td>\n",
       "      <td>1826.77</td>\n",
       "    </tr>\n",
       "    <tr>\n",
       "      <th>4</th>\n",
       "      <td>2014-01-07</td>\n",
       "      <td>1837.88</td>\n",
       "    </tr>\n",
       "  </tbody>\n",
       "</table>\n",
       "</div>"
      ],
      "text/plain": [
       "        Date    SP500\n",
       "0 2014-01-01      NaN\n",
       "1 2014-01-02  1831.98\n",
       "2 2014-01-03  1831.37\n",
       "3 2014-01-06  1826.77\n",
       "4 2014-01-07  1837.88"
      ]
     },
     "execution_count": 6,
     "metadata": {},
     "output_type": "execute_result"
    }
   ],
   "source": [
    "spy = web.DataReader('SP500', 'fred', start_date, end_date).reset_index()\n",
    "spy.columns = ['Date', 'SP500']\n",
    "\n",
    "spy.head(5)"
   ]
  },
  {
   "cell_type": "markdown",
   "metadata": {},
   "source": [
    "Assuming there is a hidden relationship between a given stock, the equity market, and the bond market, let's build a prediction of future stock prices."
   ]
  },
  {
   "cell_type": "code",
   "execution_count": 7,
   "metadata": {},
   "outputs": [
    {
     "data": {
      "text/plain": [
       "[<matplotlib.lines.Line2D at 0x2350de52240>]"
      ]
     },
     "execution_count": 7,
     "metadata": {},
     "output_type": "execute_result"
    },
    {
     "data": {
      "image/png": "[encoded data removed]",
      "text/plain": [
       "<matplotlib.figure.Figure at 0x2350dde3470>"
      ]
     },
     "metadata": {},
     "output_type": "display_data"
    }
   ],
   "source": [
    "plt.figure(figsize=(12,10))\n",
    "\n",
    "plt.plot(msft['AdjClose'])"
   ]
  },
  {
   "cell_type": "code",
   "execution_count": 8,
   "metadata": {},
   "outputs": [
    {
     "data": {
      "text/plain": [
       "252"
      ]
     },
     "execution_count": 8,
     "metadata": {},
     "output_type": "execute_result"
    }
   ],
   "source": [
    "len(msft)"
   ]
  },
  {
   "cell_type": "code",
   "execution_count": 9,
   "metadata": {},
   "outputs": [
    {
     "data": {
      "text/plain": [
       "262"
      ]
     },
     "execution_count": 9,
     "metadata": {},
     "output_type": "execute_result"
    }
   ],
   "source": [
    "len(spy)"
   ]
  },
  {
   "cell_type": "code",
   "execution_count": 10,
   "metadata": {},
   "outputs": [
    {
     "data": {
      "text/plain": [
       "262"
      ]
     },
     "execution_count": 10,
     "metadata": {},
     "output_type": "execute_result"
    }
   ],
   "source": [
    "len(dtb3)"
   ]
  },
  {
   "cell_type": "markdown",
   "metadata": {},
   "source": [
    "Note how the length of the data frames aren't equal.  This is because the bond market is open/closed different days than the equity markets.\n",
    "\n",
    "Convert the stock prices into a stationary series by converting to log returns."
   ]
  },
  {
   "cell_type": "code",
   "execution_count": 11,
   "metadata": {},
   "outputs": [
    {
     "data": {
      "text/html": [
       "<div>\n",
       "<style scoped>\n",
       "    .dataframe tbody tr th:only-of-type {\n",
       "        vertical-align: middle;\n",
       "    }\n",
       "\n",
       "    .dataframe tbody tr th {\n",
       "        vertical-align: top;\n",
       "    }\n",
       "\n",
       "    .dataframe thead th {\n",
       "        text-align: right;\n",
       "    }\n",
       "</style>\n",
       "<table border=\"1\" class=\"dataframe\">\n",
       "  <thead>\n",
       "    <tr style=\"text-align: right;\">\n",
       "      <th></th>\n",
       "      <th>Date</th>\n",
       "      <th>Open</th>\n",
       "      <th>High</th>\n",
       "      <th>Low</th>\n",
       "      <th>Close</th>\n",
       "      <th>Volume</th>\n",
       "      <th>ExDividend</th>\n",
       "      <th>SplitRatio</th>\n",
       "      <th>AdjOpen</th>\n",
       "      <th>AdjHigh</th>\n",
       "      <th>AdjLow</th>\n",
       "      <th>AdjClose</th>\n",
       "      <th>AdjVolume</th>\n",
       "      <th>MSFT (return)</th>\n",
       "    </tr>\n",
       "  </thead>\n",
       "  <tbody>\n",
       "    <tr>\n",
       "      <th>0</th>\n",
       "      <td>2014-12-31</td>\n",
       "      <td>46.73</td>\n",
       "      <td>47.44</td>\n",
       "      <td>46.45</td>\n",
       "      <td>46.45</td>\n",
       "      <td>21552450.0</td>\n",
       "      <td>0.0</td>\n",
       "      <td>1.0</td>\n",
       "      <td>43.316504</td>\n",
       "      <td>43.974640</td>\n",
       "      <td>43.056957</td>\n",
       "      <td>43.056957</td>\n",
       "      <td>21552450.0</td>\n",
       "      <td>NaN</td>\n",
       "    </tr>\n",
       "    <tr>\n",
       "      <th>1</th>\n",
       "      <td>2014-12-30</td>\n",
       "      <td>47.44</td>\n",
       "      <td>47.62</td>\n",
       "      <td>46.84</td>\n",
       "      <td>47.02</td>\n",
       "      <td>16384692.0</td>\n",
       "      <td>0.0</td>\n",
       "      <td>1.0</td>\n",
       "      <td>43.974640</td>\n",
       "      <td>44.141492</td>\n",
       "      <td>43.418469</td>\n",
       "      <td>43.585320</td>\n",
       "      <td>16384692.0</td>\n",
       "      <td>0.012197</td>\n",
       "    </tr>\n",
       "    <tr>\n",
       "      <th>2</th>\n",
       "      <td>2014-12-29</td>\n",
       "      <td>47.70</td>\n",
       "      <td>47.78</td>\n",
       "      <td>47.26</td>\n",
       "      <td>47.45</td>\n",
       "      <td>14439518.0</td>\n",
       "      <td>0.0</td>\n",
       "      <td>1.0</td>\n",
       "      <td>44.215648</td>\n",
       "      <td>44.289804</td>\n",
       "      <td>43.807789</td>\n",
       "      <td>43.983910</td>\n",
       "      <td>14439518.0</td>\n",
       "      <td>0.009103</td>\n",
       "    </tr>\n",
       "    <tr>\n",
       "      <th>3</th>\n",
       "      <td>2014-12-26</td>\n",
       "      <td>48.41</td>\n",
       "      <td>48.41</td>\n",
       "      <td>47.82</td>\n",
       "      <td>47.88</td>\n",
       "      <td>13197817.0</td>\n",
       "      <td>0.0</td>\n",
       "      <td>1.0</td>\n",
       "      <td>44.873784</td>\n",
       "      <td>44.873784</td>\n",
       "      <td>44.326882</td>\n",
       "      <td>44.382499</td>\n",
       "      <td>13197817.0</td>\n",
       "      <td>0.009021</td>\n",
       "    </tr>\n",
       "    <tr>\n",
       "      <th>4</th>\n",
       "      <td>2014-12-24</td>\n",
       "      <td>48.64</td>\n",
       "      <td>48.64</td>\n",
       "      <td>48.08</td>\n",
       "      <td>48.14</td>\n",
       "      <td>11442790.0</td>\n",
       "      <td>0.0</td>\n",
       "      <td>1.0</td>\n",
       "      <td>45.086984</td>\n",
       "      <td>45.086984</td>\n",
       "      <td>44.567890</td>\n",
       "      <td>44.623507</td>\n",
       "      <td>11442790.0</td>\n",
       "      <td>0.005416</td>\n",
       "    </tr>\n",
       "  </tbody>\n",
       "</table>\n",
       "</div>"
      ],
      "text/plain": [
       "        Date   Open   High    Low  Close      Volume  ExDividend  SplitRatio  \\\n",
       "0 2014-12-31  46.73  47.44  46.45  46.45  21552450.0         0.0         1.0   \n",
       "1 2014-12-30  47.44  47.62  46.84  47.02  16384692.0         0.0         1.0   \n",
       "2 2014-12-29  47.70  47.78  47.26  47.45  14439518.0         0.0         1.0   \n",
       "3 2014-12-26  48.41  48.41  47.82  47.88  13197817.0         0.0         1.0   \n",
       "4 2014-12-24  48.64  48.64  48.08  48.14  11442790.0         0.0         1.0   \n",
       "\n",
       "     AdjOpen    AdjHigh     AdjLow   AdjClose   AdjVolume  MSFT (return)  \n",
       "0  43.316504  43.974640  43.056957  43.056957  21552450.0            NaN  \n",
       "1  43.974640  44.141492  43.418469  43.585320  16384692.0       0.012197  \n",
       "2  44.215648  44.289804  43.807789  43.983910  14439518.0       0.009103  \n",
       "3  44.873784  44.873784  44.326882  44.382499  13197817.0       0.009021  \n",
       "4  45.086984  45.086984  44.567890  44.623507  11442790.0       0.005416  "
      ]
     },
     "execution_count": 11,
     "metadata": {},
     "output_type": "execute_result"
    }
   ],
   "source": [
    "msft['MSFT (return)'] = np.log(msft['AdjClose']).diff()\n",
    "\n",
    "msft.head(5)"
   ]
  },
  {
   "cell_type": "code",
   "execution_count": 12,
   "metadata": {},
   "outputs": [
    {
     "data": {
      "text/html": [
       "<div>\n",
       "<style scoped>\n",
       "    .dataframe tbody tr th:only-of-type {\n",
       "        vertical-align: middle;\n",
       "    }\n",
       "\n",
       "    .dataframe tbody tr th {\n",
       "        vertical-align: top;\n",
       "    }\n",
       "\n",
       "    .dataframe thead th {\n",
       "        text-align: right;\n",
       "    }\n",
       "</style>\n",
       "<table border=\"1\" class=\"dataframe\">\n",
       "  <thead>\n",
       "    <tr style=\"text-align: right;\">\n",
       "      <th></th>\n",
       "      <th>Date</th>\n",
       "      <th>SP500</th>\n",
       "      <th>SP500 (return)</th>\n",
       "    </tr>\n",
       "  </thead>\n",
       "  <tbody>\n",
       "    <tr>\n",
       "      <th>0</th>\n",
       "      <td>2014-01-01</td>\n",
       "      <td>NaN</td>\n",
       "      <td>NaN</td>\n",
       "    </tr>\n",
       "    <tr>\n",
       "      <th>1</th>\n",
       "      <td>2014-01-02</td>\n",
       "      <td>1831.98</td>\n",
       "      <td>NaN</td>\n",
       "    </tr>\n",
       "    <tr>\n",
       "      <th>2</th>\n",
       "      <td>2014-01-03</td>\n",
       "      <td>1831.37</td>\n",
       "      <td>-0.000333</td>\n",
       "    </tr>\n",
       "    <tr>\n",
       "      <th>3</th>\n",
       "      <td>2014-01-06</td>\n",
       "      <td>1826.77</td>\n",
       "      <td>-0.002515</td>\n",
       "    </tr>\n",
       "    <tr>\n",
       "      <th>4</th>\n",
       "      <td>2014-01-07</td>\n",
       "      <td>1837.88</td>\n",
       "      <td>0.006063</td>\n",
       "    </tr>\n",
       "  </tbody>\n",
       "</table>\n",
       "</div>"
      ],
      "text/plain": [
       "        Date    SP500  SP500 (return)\n",
       "0 2014-01-01      NaN             NaN\n",
       "1 2014-01-02  1831.98             NaN\n",
       "2 2014-01-03  1831.37       -0.000333\n",
       "3 2014-01-06  1826.77       -0.002515\n",
       "4 2014-01-07  1837.88        0.006063"
      ]
     },
     "execution_count": 12,
     "metadata": {},
     "output_type": "execute_result"
    }
   ],
   "source": [
    "spy['SP500 (return)'] = np.log(spy['SP500']).diff()\n",
    "\n",
    "spy.head(5)"
   ]
  },
  {
   "cell_type": "markdown",
   "metadata": {},
   "source": [
    "Now combine the three datasets using only the dates that exist in all three.  Also, remove any NAs that are leftover."
   ]
  },
  {
   "cell_type": "code",
   "execution_count": 13,
   "metadata": {},
   "outputs": [
    {
     "data": {
      "text/html": [
       "<div>\n",
       "<style scoped>\n",
       "    .dataframe tbody tr th:only-of-type {\n",
       "        vertical-align: middle;\n",
       "    }\n",
       "\n",
       "    .dataframe tbody tr th {\n",
       "        vertical-align: top;\n",
       "    }\n",
       "\n",
       "    .dataframe thead th {\n",
       "        text-align: right;\n",
       "    }\n",
       "</style>\n",
       "<table border=\"1\" class=\"dataframe\">\n",
       "  <thead>\n",
       "    <tr style=\"text-align: right;\">\n",
       "      <th></th>\n",
       "      <th>Date</th>\n",
       "      <th>MSFT (return)</th>\n",
       "      <th>SP500 (return)</th>\n",
       "      <th>DTB3</th>\n",
       "    </tr>\n",
       "  </thead>\n",
       "  <tbody>\n",
       "    <tr>\n",
       "      <th>0</th>\n",
       "      <td>2014-12-31</td>\n",
       "      <td>NaN</td>\n",
       "      <td>-0.010364</td>\n",
       "      <td>0.04</td>\n",
       "    </tr>\n",
       "    <tr>\n",
       "      <th>1</th>\n",
       "      <td>2014-12-30</td>\n",
       "      <td>0.012197</td>\n",
       "      <td>-0.004901</td>\n",
       "      <td>0.03</td>\n",
       "    </tr>\n",
       "    <tr>\n",
       "      <th>2</th>\n",
       "      <td>2014-12-29</td>\n",
       "      <td>0.009103</td>\n",
       "      <td>0.000861</td>\n",
       "      <td>0.03</td>\n",
       "    </tr>\n",
       "    <tr>\n",
       "      <th>3</th>\n",
       "      <td>2014-12-26</td>\n",
       "      <td>0.009021</td>\n",
       "      <td>NaN</td>\n",
       "      <td>0.01</td>\n",
       "    </tr>\n",
       "    <tr>\n",
       "      <th>4</th>\n",
       "      <td>2014-12-24</td>\n",
       "      <td>0.005416</td>\n",
       "      <td>-0.000139</td>\n",
       "      <td>0.01</td>\n",
       "    </tr>\n",
       "  </tbody>\n",
       "</table>\n",
       "</div>"
      ],
      "text/plain": [
       "        Date  MSFT (return)  SP500 (return)  DTB3\n",
       "0 2014-12-31            NaN       -0.010364  0.04\n",
       "1 2014-12-30       0.012197       -0.004901  0.03\n",
       "2 2014-12-29       0.009103        0.000861  0.03\n",
       "3 2014-12-26       0.009021             NaN  0.01\n",
       "4 2014-12-24       0.005416       -0.000139  0.01"
      ]
     },
     "execution_count": 13,
     "metadata": {},
     "output_type": "execute_result"
    }
   ],
   "source": [
    "merged_df = msft[['Date', 'MSFT (return)']].merge(spy[['Date', 'SP500 (return)']], on='Date', how='inner')\n",
    "merged_df = merged_df.merge(dtb3, on='Date', how='inner')\n",
    "\n",
    "merged_df.head(5)"
   ]
  },
  {
   "cell_type": "code",
   "execution_count": 14,
   "metadata": {},
   "outputs": [
    {
     "data": {
      "text/plain": [
       "252"
      ]
     },
     "execution_count": 14,
     "metadata": {},
     "output_type": "execute_result"
    }
   ],
   "source": [
    "len(merged_df)"
   ]
  },
  {
   "cell_type": "code",
   "execution_count": 15,
   "metadata": {},
   "outputs": [
    {
     "data": {
      "text/plain": [
       "240"
      ]
     },
     "execution_count": 15,
     "metadata": {},
     "output_type": "execute_result"
    }
   ],
   "source": [
    "merged_df = merged_df.dropna()\n",
    "\n",
    "len(merged_df)"
   ]
  },
  {
   "cell_type": "markdown",
   "metadata": {},
   "source": [
    "So we are down to 240 common rows with no null values."
   ]
  },
  {
   "cell_type": "code",
   "execution_count": 22,
   "metadata": {},
   "outputs": [
    {
     "name": "stderr",
     "output_type": "stream",
     "text": [
      "C:\\Users\\Craig\\AppData\\Local\\conda\\conda\\envs\\tensorflow\\lib\\site-packages\\statsmodels\\tsa\\base\\tsa_model.py:215: ValueWarning: An unsupported index was provided and will be ignored when e.g. forecasting.\n",
      "  ' ignored when e.g. forecasting.', ValueWarning)\n"
     ]
    }
   ],
   "source": [
    "model = VAR(merged_df[['MSFT (return)', 'SP500 (return)', 'DTB3']])\n",
    "results = model.select_order(maxlags=10)"
   ]
  },
  {
   "cell_type": "code",
   "execution_count": 23,
   "metadata": {},
   "outputs": [
    {
     "data": {
      "text/html": [
       "<table class=\"simpletable\">\n",
       "<caption>VAR Order Selection (* highlights the minimums)</caption>\n",
       "<tr>\n",
       "   <td></td>      <th>AIC</th>         <th>BIC</th>         <th>FPE</th>        <th>HQIC</th>    \n",
       "</tr>\n",
       "<tr>\n",
       "  <th>0</th>  <td>    -27.35</td>  <td>    -27.30</td>  <td> 1.329e-12</td>  <td>    -27.33</td> \n",
       "</tr>\n",
       "<tr>\n",
       "  <th>1</th>  <td>    -28.70</td>  <td>    -28.53*</td> <td> 3.418e-13</td>  <td>    -28.63*</td>\n",
       "</tr>\n",
       "<tr>\n",
       "  <th>2</th>  <td>    -28.71*</td> <td>    -28.39</td>  <td> 3.415e-13*</td> <td>    -28.58</td> \n",
       "</tr>\n",
       "<tr>\n",
       "  <th>3</th>  <td>    -28.69</td>  <td>    -28.24</td>  <td> 3.483e-13</td>  <td>    -28.51</td> \n",
       "</tr>\n",
       "<tr>\n",
       "  <th>4</th>  <td>    -28.64</td>  <td>    -28.06</td>  <td> 3.630e-13</td>  <td>    -28.41</td> \n",
       "</tr>\n",
       "<tr>\n",
       "  <th>5</th>  <td>    -28.64</td>  <td>    -27.92</td>  <td> 3.649e-13</td>  <td>    -28.35</td> \n",
       "</tr>\n",
       "<tr>\n",
       "  <th>6</th>  <td>    -28.58</td>  <td>    -27.73</td>  <td> 3.882e-13</td>  <td>    -28.23</td> \n",
       "</tr>\n",
       "<tr>\n",
       "  <th>7</th>  <td>    -28.58</td>  <td>    -27.59</td>  <td> 3.892e-13</td>  <td>    -28.18</td> \n",
       "</tr>\n",
       "<tr>\n",
       "  <th>8</th>  <td>    -28.55</td>  <td>    -27.43</td>  <td> 3.996e-13</td>  <td>    -28.10</td> \n",
       "</tr>\n",
       "<tr>\n",
       "  <th>9</th>  <td>    -28.54</td>  <td>    -27.28</td>  <td> 4.051e-13</td>  <td>    -28.03</td> \n",
       "</tr>\n",
       "<tr>\n",
       "  <th>10</th> <td>    -28.49</td>  <td>    -27.10</td>  <td> 4.239e-13</td>  <td>    -27.93</td> \n",
       "</tr>\n",
       "</table>"
      ],
      "text/plain": [
       "<class 'statsmodels.iolib.table.SimpleTable'>"
      ]
     },
     "execution_count": 23,
     "metadata": {},
     "output_type": "execute_result"
    }
   ],
   "source": [
    "results.summary()"
   ]
  },
  {
   "cell_type": "markdown",
   "metadata": {},
   "source": [
    "Choose lag 2 for the model."
   ]
  },
  {
   "cell_type": "code",
   "execution_count": 24,
   "metadata": {},
   "outputs": [
    {
     "data": {
      "text/plain": [
       "  Summary of Regression Results   \n",
       "==================================\n",
       "Model:                         VAR\n",
       "Method:                        OLS\n",
       "Date:           Thu, 09, Jan, 2020\n",
       "Time:                     13:01:04\n",
       "--------------------------------------------------------------------\n",
       "No. of Equations:         3.00000    BIC:                   -28.2763\n",
       "Nobs:                     238.000    HQIC:                  -28.4592\n",
       "Log likelihood:           2409.21    FPE:                3.86133e-13\n",
       "AIC:                     -28.5826    Det(Omega_mle):     3.53973e-13\n",
       "--------------------------------------------------------------------\n",
       "Results for equation MSFT (return)\n",
       "====================================================================================\n",
       "                       coefficient       std. error           t-stat            prob\n",
       "------------------------------------------------------------------------------------\n",
       "const                     0.000461         0.001755            0.262           0.793\n",
       "L1.MSFT (return)         -0.033351         0.066787           -0.499           0.618\n",
       "L1.SP500 (return)        -0.974798         0.090884          -10.726           0.000\n",
       "L1.DTB3                   0.006325         0.077342            0.082           0.935\n",
       "L2.MSFT (return)         -0.000920         0.054544           -0.017           0.987\n",
       "L2.SP500 (return)         0.162429         0.112278            1.447           0.148\n",
       "L2.DTB3                  -0.044456         0.076734           -0.579           0.562\n",
       "====================================================================================\n",
       "\n",
       "Results for equation SP500 (return)\n",
       "====================================================================================\n",
       "                       coefficient       std. error           t-stat            prob\n",
       "------------------------------------------------------------------------------------\n",
       "const                     0.000638         0.001282            0.498           0.619\n",
       "L1.MSFT (return)          0.043230         0.048775            0.886           0.375\n",
       "L1.SP500 (return)        -0.029301         0.066373           -0.441           0.659\n",
       "L1.DTB3                   0.053134         0.056483            0.941           0.347\n",
       "L2.MSFT (return)         -0.024490         0.039834           -0.615           0.539\n",
       "L2.SP500 (return)         0.067506         0.081997            0.823           0.410\n",
       "L2.DTB3                  -0.055072         0.056039           -0.983           0.326\n",
       "====================================================================================\n",
       "\n",
       "Results for equation DTB3\n",
       "====================================================================================\n",
       "                       coefficient       std. error           t-stat            prob\n",
       "------------------------------------------------------------------------------------\n",
       "const                     0.005574         0.001490            3.742           0.000\n",
       "L1.MSFT (return)         -0.084778         0.056688           -1.496           0.135\n",
       "L1.SP500 (return)         0.092152         0.077141            1.195           0.232\n",
       "L1.DTB3                   0.635165         0.065647            9.675           0.000\n",
       "L2.MSFT (return)          0.008173         0.046297            0.177           0.860\n",
       "L2.SP500 (return)         0.061227         0.095300            0.642           0.521\n",
       "L2.DTB3                   0.192508         0.065131            2.956           0.003\n",
       "====================================================================================\n",
       "\n",
       "Correlation matrix of residuals\n",
       "                  MSFT (return)  SP500 (return)      DTB3\n",
       "MSFT (return)          1.000000       -0.171132  0.029699\n",
       "SP500 (return)        -0.171132        1.000000  0.050182\n",
       "DTB3                   0.029699        0.050182  1.000000\n",
       "\n"
      ]
     },
     "execution_count": 24,
     "metadata": {},
     "output_type": "execute_result"
    }
   ],
   "source": [
    "model_fitted = model.fit(2)\n",
    "model_fitted.summary()"
   ]
  },
  {
   "cell_type": "markdown",
   "metadata": {},
   "source": [
    "Let's try a forecast."
   ]
  },
  {
   "cell_type": "code",
   "execution_count": 25,
   "metadata": {},
   "outputs": [
    {
     "data": {
      "text/plain": [
       "2"
      ]
     },
     "execution_count": 25,
     "metadata": {},
     "output_type": "execute_result"
    }
   ],
   "source": [
    "lag_order = model_fitted.k_ar\n",
    "lag_order"
   ]
  },
  {
   "cell_type": "code",
   "execution_count": 27,
   "metadata": {},
   "outputs": [
    {
     "data": {
      "text/plain": [
       "array([[-0.00771992, -0.00251494,  0.05      ],\n",
       "       [ 0.02135897, -0.00033303,  0.07      ]])"
      ]
     },
     "execution_count": 27,
     "metadata": {},
     "output_type": "execute_result"
    }
   ],
   "source": [
    "forecast_df = merged_df[['MSFT (return)', 'SP500 (return)', 'DTB3']].values[-lag_order:]\n",
    "forecast_df"
   ]
  },
  {
   "cell_type": "code",
   "execution_count": 28,
   "metadata": {
    "collapsed": true
   },
   "outputs": [],
   "source": [
    "predictions = model_fitted.forecast(y=forecast_df, steps=10)"
   ]
  },
  {
   "cell_type": "code",
   "execution_count": 29,
   "metadata": {},
   "outputs": [
    {
     "data": {
      "text/plain": [
       "array([[-0.00210858,  0.00255642,  0.05760281],\n",
       "       [-0.00478243, -0.00086772,  0.05620576],\n",
       "       [-0.00032219,  0.00049529,  0.05282811],\n",
       "       [-0.00231259,  0.00037997,  0.04992977],\n",
       "       [-0.00178468,  0.0003121 ,  0.04771665],\n",
       "       [-0.00163817,  0.0004199 ,  0.04567866],\n",
       "       [-0.00167415,  0.00041916,  0.04395583],\n",
       "       [-0.00157515,  0.00044201,  0.04248   ],\n",
       "       [-0.00153356,  0.00046291,  0.04120432],\n",
       "       [-0.00149416,  0.00047671,  0.04011055]])"
      ]
     },
     "execution_count": 29,
     "metadata": {},
     "output_type": "execute_result"
    }
   ],
   "source": [
    "predictions"
   ]
  },
  {
   "cell_type": "code",
   "execution_count": null,
   "metadata": {
    "collapsed": true
   },
   "outputs": [],
   "source": []
  }
 ],
 "metadata": {
  "kernelspec": {
   "display_name": "Python 3",
   "language": "python",
   "name": "python3"
  },
  "language_info": {
   "codemirror_mode": {
    "name": "ipython",
    "version": 3
   },
   "file_extension": ".py",
   "mimetype": "text/x-python",
   "name": "python",
   "nbconvert_exporter": "python",
   "pygments_lexer": "ipython3",
   "version": "3.6.2"
  }
 },
 "nbformat": 4,
 "nbformat_minor": 2
}
