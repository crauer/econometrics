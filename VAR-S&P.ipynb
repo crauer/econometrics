{
 "cells": [
  {
   "cell_type": "code",
   "execution_count": 27,
   "metadata": {
    "collapsed": true
   },
   "outputs": [],
   "source": [
    "import bs4\n",
    "import numpy as np\n",
    "import pandas as pd\n",
    "import pandas_datareader.data as web\n",
    "import requests\n",
    "\n",
    "from datetime import datetime\n",
    "\n",
    "from sklearn.metrics import explained_variance_score, mean_squared_error\n",
    "\n",
    "from statsmodels.stats.stattools import durbin_watson\n",
    "from statsmodels.tsa.api import VAR\n",
    "from statsmodels.tsa.stattools import adfuller, grangercausalitytests\n",
    "from statsmodels.tsa.vector_ar.vecm import coint_johansen"
   ]
  },
  {
   "cell_type": "code",
   "execution_count": 2,
   "metadata": {
    "collapsed": true
   },
   "outputs": [],
   "source": [
    "def get_s_and_p_symbols():\n",
    "    response = requests.get('http://en.wikipedia.org/wiki/List_of_S%26P_500_companies')\n",
    "    soup = bs4.BeautifulSoup(response.text, 'lxml')\n",
    "    table = soup.find('table', {'class': 'wikitable sortable'})\n",
    "    \n",
    "    tickers = []\n",
    "\n",
    "    for row in table.findAll('tr')[1:]:\n",
    "        ticker = row.findAll('td')[0].text.strip()\n",
    "        tickers.append(ticker)\n",
    "        \n",
    "    return tickers"
   ]
  },
  {
   "cell_type": "code",
   "execution_count": 3,
   "metadata": {
    "collapsed": true
   },
   "outputs": [],
   "source": [
    "def to_weekly(df, symbol, col):\n",
    "    df['Week_Number'] = df['Date'].dt.week\n",
    "    df['Year'] = df['Date'].dt.year\n",
    "    df['Symbol'] = symbol\n",
    "    \n",
    "    grouped_df = df.groupby(['Year', 'Week_Number', 'Symbol']).agg({'Date': 'first', col: 'first'}).reset_index()\n",
    "    grouped_df.columns = ['Year', 'Week_Number', 'Symbol', 'Date', 'Price']\n",
    "    \n",
    "    return grouped_df"
   ]
  },
  {
   "cell_type": "code",
   "execution_count": 4,
   "metadata": {
    "collapsed": true
   },
   "outputs": [],
   "source": [
    "def query_time_series(symbol, start_date, end_date, source='yahoo', col='Adj Close'):\n",
    "    df = web.DataReader(symbol, source, start_date, end_date).reset_index()\n",
    "    \n",
    "    if source == 'fred':\n",
    "        df = df.rename({'DATE': 'Date'}, axis=1)\n",
    "        \n",
    "    df = to_weekly(df, symbol, col)\n",
    "    \n",
    "    df['{:}_return'.format(symbol)] = np.log(df['Price']).diff()\n",
    "    \n",
    "    return df"
   ]
  },
  {
   "cell_type": "code",
   "execution_count": 5,
   "metadata": {
    "collapsed": true
   },
   "outputs": [],
   "source": [
    "def merge_asset(symbol, start_date, end_date, time_series, verbose=False):\n",
    "    df = query_time_series(symbol, start_date, end_date)\n",
    "    \n",
    "    merged_df = None\n",
    "    \n",
    "    for ts in time_series:\n",
    "        time_series_col = [c for c in ts.columns if '_return' in c][0]\n",
    "        \n",
    "        if merged_df is None:\n",
    "            merged_df = df[['Year', 'Week_Number', 'Date', 'Price', '{:}_return'.format(symbol)]] \\\n",
    "                    .merge(ts[['Year', 'Week_Number', '{:}'.format(time_series_col)]],\n",
    "                           on=['Year', 'Week_Number'],\n",
    "                           how='inner')\n",
    "            merged_df.set_index('Date')\n",
    "        else:\n",
    "            merged_df = merged_df.merge(ts[['Year', 'Week_Number', '{:}'.format(time_series_col)]],\n",
    "                                        on=['Year', 'Week_Number'],\n",
    "                                        how='inner')\n",
    "        \n",
    "        if verbose:\n",
    "            print('Merging {:} with {:}:  {:}'.format(symbol, time_series_col, len(merged_df)))\n",
    "        \n",
    "    merged_df = merged_df.dropna()\n",
    "\n",
    "    return merged_df"
   ]
  },
  {
   "cell_type": "code",
   "execution_count": 6,
   "metadata": {},
   "outputs": [
    {
     "name": "stdout",
     "output_type": "stream",
     "text": [
      "Symbols (S&P):  505\n"
     ]
    }
   ],
   "source": [
    "symbols = get_s_and_p_symbols()\n",
    "\n",
    "print('Symbols (S&P):  {:}'.format(len(symbols)))"
   ]
  },
  {
   "cell_type": "code",
   "execution_count": 7,
   "metadata": {
    "collapsed": true
   },
   "outputs": [],
   "source": [
    "verbose = False"
   ]
  },
  {
   "cell_type": "code",
   "execution_count": 8,
   "metadata": {},
   "outputs": [
    {
     "name": "stdout",
     "output_type": "stream",
     "text": [
      "Start date:  2015-01-01\n",
      "  End date:  2020-01-26\n"
     ]
    }
   ],
   "source": [
    "start_date = datetime(2015, 1, 1).date()\n",
    "end_date = datetime.now().date()\n",
    "\n",
    "print('Start date:  {:}'.format(start_date))\n",
    "print('  End date:  {:}'.format(end_date))"
   ]
  },
  {
   "cell_type": "markdown",
   "metadata": {},
   "source": [
    "Collect the indexes that will be used as predictors."
   ]
  },
  {
   "cell_type": "code",
   "execution_count": 9,
   "metadata": {
    "collapsed": true
   },
   "outputs": [],
   "source": [
    "predictors = {\n",
    "    'DTB3': 'fred',         # 3-month US treasury\n",
    "    'DTB6': 'fred',         # 6-month US treasury\n",
    "    'DGS10': 'fred',        # 10 year US treasury\n",
    "    'DX-Y.NYB': 'yahoo',    # US oil\n",
    "    'USO': 'yahoo',         # US dollar\n",
    "    'SP500': 'fred',        # S&P stock index\n",
    "    'VIXCLS': 'fred'         # Volatility index\n",
    "}"
   ]
  },
  {
   "cell_type": "code",
   "execution_count": 10,
   "metadata": {},
   "outputs": [
    {
     "data": {
      "text/html": [
       "<div>\n",
       "<style scoped>\n",
       "    .dataframe tbody tr th:only-of-type {\n",
       "        vertical-align: middle;\n",
       "    }\n",
       "\n",
       "    .dataframe tbody tr th {\n",
       "        vertical-align: top;\n",
       "    }\n",
       "\n",
       "    .dataframe thead th {\n",
       "        text-align: right;\n",
       "    }\n",
       "</style>\n",
       "<table border=\"1\" class=\"dataframe\">\n",
       "  <thead>\n",
       "    <tr style=\"text-align: right;\">\n",
       "      <th></th>\n",
       "      <th>Year</th>\n",
       "      <th>Week_Number</th>\n",
       "      <th>Symbol</th>\n",
       "      <th>Date</th>\n",
       "      <th>Price</th>\n",
       "      <th>DTB3_return</th>\n",
       "    </tr>\n",
       "  </thead>\n",
       "  <tbody>\n",
       "    <tr>\n",
       "      <th>261</th>\n",
       "      <td>2019</td>\n",
       "      <td>52</td>\n",
       "      <td>DTB3</td>\n",
       "      <td>2019-12-23</td>\n",
       "      <td>1.56</td>\n",
       "      <td>0.012903</td>\n",
       "    </tr>\n",
       "    <tr>\n",
       "      <th>262</th>\n",
       "      <td>2020</td>\n",
       "      <td>1</td>\n",
       "      <td>DTB3</td>\n",
       "      <td>2020-01-01</td>\n",
       "      <td>1.51</td>\n",
       "      <td>-0.032576</td>\n",
       "    </tr>\n",
       "    <tr>\n",
       "      <th>263</th>\n",
       "      <td>2020</td>\n",
       "      <td>2</td>\n",
       "      <td>DTB3</td>\n",
       "      <td>2020-01-06</td>\n",
       "      <td>1.53</td>\n",
       "      <td>0.013158</td>\n",
       "    </tr>\n",
       "    <tr>\n",
       "      <th>264</th>\n",
       "      <td>2020</td>\n",
       "      <td>3</td>\n",
       "      <td>DTB3</td>\n",
       "      <td>2020-01-13</td>\n",
       "      <td>1.54</td>\n",
       "      <td>0.006515</td>\n",
       "    </tr>\n",
       "    <tr>\n",
       "      <th>265</th>\n",
       "      <td>2020</td>\n",
       "      <td>4</td>\n",
       "      <td>DTB3</td>\n",
       "      <td>2020-01-20</td>\n",
       "      <td>1.53</td>\n",
       "      <td>-0.006515</td>\n",
       "    </tr>\n",
       "  </tbody>\n",
       "</table>\n",
       "</div>"
      ],
      "text/plain": [
       "     Year  Week_Number Symbol       Date  Price  DTB3_return\n",
       "261  2019           52   DTB3 2019-12-23   1.56     0.012903\n",
       "262  2020            1   DTB3 2020-01-01   1.51    -0.032576\n",
       "263  2020            2   DTB3 2020-01-06   1.53     0.013158\n",
       "264  2020            3   DTB3 2020-01-13   1.54     0.006515\n",
       "265  2020            4   DTB3 2020-01-20   1.53    -0.006515"
      ]
     },
     "execution_count": 10,
     "metadata": {},
     "output_type": "execute_result"
    }
   ],
   "source": [
    "time_series = []\n",
    "\n",
    "for symbol,source in predictors.items():\n",
    "    time_series.append(query_time_series(symbol, \n",
    "                                         start_date, \n",
    "                                         end_date, \n",
    "                                         source=source,\n",
    "                                         col=symbol if source == 'fred' else 'Adj Close')\n",
    "    )\n",
    "\n",
    "time_series[0].tail(5)"
   ]
  },
  {
   "cell_type": "code",
   "execution_count": 11,
   "metadata": {},
   "outputs": [
    {
     "name": "stdout",
     "output_type": "stream",
     "text": [
      "Merged (length):  263\n"
     ]
    },
    {
     "data": {
      "text/html": [
       "<div>\n",
       "<style scoped>\n",
       "    .dataframe tbody tr th:only-of-type {\n",
       "        vertical-align: middle;\n",
       "    }\n",
       "\n",
       "    .dataframe tbody tr th {\n",
       "        vertical-align: top;\n",
       "    }\n",
       "\n",
       "    .dataframe thead th {\n",
       "        text-align: right;\n",
       "    }\n",
       "</style>\n",
       "<table border=\"1\" class=\"dataframe\">\n",
       "  <thead>\n",
       "    <tr style=\"text-align: right;\">\n",
       "      <th></th>\n",
       "      <th>Year</th>\n",
       "      <th>Week_Number</th>\n",
       "      <th>Date</th>\n",
       "      <th>Price</th>\n",
       "      <th>MSFT_return</th>\n",
       "      <th>DTB3_return</th>\n",
       "      <th>DTB6_return</th>\n",
       "      <th>DGS10_return</th>\n",
       "      <th>DX-Y.NYB_return</th>\n",
       "      <th>USO_return</th>\n",
       "      <th>SP500_return</th>\n",
       "      <th>VIXCLS_return</th>\n",
       "    </tr>\n",
       "  </thead>\n",
       "  <tbody>\n",
       "    <tr>\n",
       "      <th>260</th>\n",
       "      <td>2019</td>\n",
       "      <td>52</td>\n",
       "      <td>2019-12-23</td>\n",
       "      <td>157.410004</td>\n",
       "      <td>0.012015</td>\n",
       "      <td>0.012903</td>\n",
       "      <td>0.012903</td>\n",
       "      <td>0.020943</td>\n",
       "      <td>0.006264</td>\n",
       "      <td>0.008699</td>\n",
       "      <td>0.010151</td>\n",
       "      <td>0.037984</td>\n",
       "    </tr>\n",
       "    <tr>\n",
       "      <th>261</th>\n",
       "      <td>2020</td>\n",
       "      <td>1</td>\n",
       "      <td>2020-01-02</td>\n",
       "      <td>160.619995</td>\n",
       "      <td>0.020187</td>\n",
       "      <td>-0.032576</td>\n",
       "      <td>-0.019418</td>\n",
       "      <td>-0.026248</td>\n",
       "      <td>-0.008533</td>\n",
       "      <td>0.008624</td>\n",
       "      <td>0.010442</td>\n",
       "      <td>-0.011164</td>\n",
       "    </tr>\n",
       "    <tr>\n",
       "      <th>262</th>\n",
       "      <td>2020</td>\n",
       "      <td>2</td>\n",
       "      <td>2020-01-06</td>\n",
       "      <td>159.029999</td>\n",
       "      <td>-0.009948</td>\n",
       "      <td>0.013158</td>\n",
       "      <td>-0.006557</td>\n",
       "      <td>-0.037945</td>\n",
       "      <td>-0.001860</td>\n",
       "      <td>0.026956</td>\n",
       "      <td>-0.003558</td>\n",
       "      <td>0.104959</td>\n",
       "    </tr>\n",
       "    <tr>\n",
       "      <th>263</th>\n",
       "      <td>2020</td>\n",
       "      <td>3</td>\n",
       "      <td>2020-01-13</td>\n",
       "      <td>163.279999</td>\n",
       "      <td>0.026374</td>\n",
       "      <td>0.006515</td>\n",
       "      <td>0.006557</td>\n",
       "      <td>0.021859</td>\n",
       "      <td>0.007010</td>\n",
       "      <td>-0.075746</td>\n",
       "      <td>0.012809</td>\n",
       "      <td>-0.117061</td>\n",
       "    </tr>\n",
       "    <tr>\n",
       "      <th>264</th>\n",
       "      <td>2020</td>\n",
       "      <td>4</td>\n",
       "      <td>2020-01-21</td>\n",
       "      <td>166.500000</td>\n",
       "      <td>0.019529</td>\n",
       "      <td>-0.006515</td>\n",
       "      <td>0.000000</td>\n",
       "      <td>-0.038572</td>\n",
       "      <td>0.001847</td>\n",
       "      <td>0.003273</td>\n",
       "      <td>0.009884</td>\n",
       "      <td>0.042120</td>\n",
       "    </tr>\n",
       "  </tbody>\n",
       "</table>\n",
       "</div>"
      ],
      "text/plain": [
       "     Year  Week_Number       Date       Price  MSFT_return  DTB3_return  \\\n",
       "260  2019           52 2019-12-23  157.410004     0.012015     0.012903   \n",
       "261  2020            1 2020-01-02  160.619995     0.020187    -0.032576   \n",
       "262  2020            2 2020-01-06  159.029999    -0.009948     0.013158   \n",
       "263  2020            3 2020-01-13  163.279999     0.026374     0.006515   \n",
       "264  2020            4 2020-01-21  166.500000     0.019529    -0.006515   \n",
       "\n",
       "     DTB6_return  DGS10_return  DX-Y.NYB_return  USO_return  SP500_return  \\\n",
       "260     0.012903      0.020943         0.006264    0.008699      0.010151   \n",
       "261    -0.019418     -0.026248        -0.008533    0.008624      0.010442   \n",
       "262    -0.006557     -0.037945        -0.001860    0.026956     -0.003558   \n",
       "263     0.006557      0.021859         0.007010   -0.075746      0.012809   \n",
       "264     0.000000     -0.038572         0.001847    0.003273      0.009884   \n",
       "\n",
       "     VIXCLS_return  \n",
       "260       0.037984  \n",
       "261      -0.011164  \n",
       "262       0.104959  \n",
       "263      -0.117061  \n",
       "264       0.042120  "
      ]
     },
     "execution_count": 11,
     "metadata": {},
     "output_type": "execute_result"
    }
   ],
   "source": [
    "symbol_to_predict = 'MSFT'\n",
    "\n",
    "merged_df = merge_asset(symbol_to_predict, start_date, end_date, time_series)\n",
    "print('Merged (length):  {:}'.format(len(merged_df)))\n",
    "\n",
    "merged_df.tail(5)"
   ]
  },
  {
   "cell_type": "code",
   "execution_count": 12,
   "metadata": {
    "collapsed": true
   },
   "outputs": [],
   "source": [
    "model_columns = [c for c in merged_df.columns if '_return' in c]\n",
    "max_lag = 12"
   ]
  },
  {
   "cell_type": "code",
   "execution_count": 13,
   "metadata": {},
   "outputs": [
    {
     "data": {
      "text/html": [
       "<div>\n",
       "<style scoped>\n",
       "    .dataframe tbody tr th:only-of-type {\n",
       "        vertical-align: middle;\n",
       "    }\n",
       "\n",
       "    .dataframe tbody tr th {\n",
       "        vertical-align: top;\n",
       "    }\n",
       "\n",
       "    .dataframe thead th {\n",
       "        text-align: right;\n",
       "    }\n",
       "</style>\n",
       "<table border=\"1\" class=\"dataframe\">\n",
       "  <thead>\n",
       "    <tr style=\"text-align: right;\">\n",
       "      <th></th>\n",
       "      <th>MSFT_return_x</th>\n",
       "      <th>DTB3_return_x</th>\n",
       "      <th>DTB6_return_x</th>\n",
       "      <th>DGS10_return_x</th>\n",
       "      <th>DX-Y.NYB_return_x</th>\n",
       "      <th>USO_return_x</th>\n",
       "      <th>SP500_return_x</th>\n",
       "      <th>VIXCLS_return_x</th>\n",
       "    </tr>\n",
       "  </thead>\n",
       "  <tbody>\n",
       "    <tr>\n",
       "      <th>MSFT_return_y</th>\n",
       "      <td>1.0000</td>\n",
       "      <td>0.0008</td>\n",
       "      <td>0.0014</td>\n",
       "      <td>0.7462</td>\n",
       "      <td>0.2227</td>\n",
       "      <td>0.1423</td>\n",
       "      <td>0.1680</td>\n",
       "      <td>0.4920</td>\n",
       "    </tr>\n",
       "    <tr>\n",
       "      <th>DTB3_return_y</th>\n",
       "      <td>0.0002</td>\n",
       "      <td>1.0000</td>\n",
       "      <td>0.0000</td>\n",
       "      <td>0.0222</td>\n",
       "      <td>0.0049</td>\n",
       "      <td>0.0002</td>\n",
       "      <td>0.0000</td>\n",
       "      <td>0.0000</td>\n",
       "    </tr>\n",
       "    <tr>\n",
       "      <th>DTB6_return_y</th>\n",
       "      <td>0.0313</td>\n",
       "      <td>0.0000</td>\n",
       "      <td>1.0000</td>\n",
       "      <td>0.0002</td>\n",
       "      <td>0.0005</td>\n",
       "      <td>0.0000</td>\n",
       "      <td>0.0000</td>\n",
       "      <td>0.0004</td>\n",
       "    </tr>\n",
       "    <tr>\n",
       "      <th>DGS10_return_y</th>\n",
       "      <td>0.1442</td>\n",
       "      <td>0.3938</td>\n",
       "      <td>0.2619</td>\n",
       "      <td>1.0000</td>\n",
       "      <td>0.0190</td>\n",
       "      <td>0.0612</td>\n",
       "      <td>0.2296</td>\n",
       "      <td>0.3580</td>\n",
       "    </tr>\n",
       "    <tr>\n",
       "      <th>DX-Y.NYB_return_y</th>\n",
       "      <td>0.1438</td>\n",
       "      <td>0.0327</td>\n",
       "      <td>0.0184</td>\n",
       "      <td>0.0690</td>\n",
       "      <td>1.0000</td>\n",
       "      <td>0.2128</td>\n",
       "      <td>0.2244</td>\n",
       "      <td>0.4512</td>\n",
       "    </tr>\n",
       "    <tr>\n",
       "      <th>USO_return_y</th>\n",
       "      <td>0.4449</td>\n",
       "      <td>0.0001</td>\n",
       "      <td>0.0002</td>\n",
       "      <td>0.1761</td>\n",
       "      <td>0.2671</td>\n",
       "      <td>1.0000</td>\n",
       "      <td>0.5432</td>\n",
       "      <td>0.4903</td>\n",
       "    </tr>\n",
       "    <tr>\n",
       "      <th>SP500_return_y</th>\n",
       "      <td>0.0975</td>\n",
       "      <td>0.0154</td>\n",
       "      <td>0.0021</td>\n",
       "      <td>0.5230</td>\n",
       "      <td>0.4556</td>\n",
       "      <td>0.1653</td>\n",
       "      <td>1.0000</td>\n",
       "      <td>0.5446</td>\n",
       "    </tr>\n",
       "    <tr>\n",
       "      <th>VIXCLS_return_y</th>\n",
       "      <td>0.0469</td>\n",
       "      <td>0.0033</td>\n",
       "      <td>0.0031</td>\n",
       "      <td>0.4694</td>\n",
       "      <td>0.0899</td>\n",
       "      <td>0.5463</td>\n",
       "      <td>0.0610</td>\n",
       "      <td>1.0000</td>\n",
       "    </tr>\n",
       "  </tbody>\n",
       "</table>\n",
       "</div>"
      ],
      "text/plain": [
       "                   MSFT_return_x  DTB3_return_x  DTB6_return_x  \\\n",
       "MSFT_return_y             1.0000         0.0008         0.0014   \n",
       "DTB3_return_y             0.0002         1.0000         0.0000   \n",
       "DTB6_return_y             0.0313         0.0000         1.0000   \n",
       "DGS10_return_y            0.1442         0.3938         0.2619   \n",
       "DX-Y.NYB_return_y         0.1438         0.0327         0.0184   \n",
       "USO_return_y              0.4449         0.0001         0.0002   \n",
       "SP500_return_y            0.0975         0.0154         0.0021   \n",
       "VIXCLS_return_y           0.0469         0.0033         0.0031   \n",
       "\n",
       "                   DGS10_return_x  DX-Y.NYB_return_x  USO_return_x  \\\n",
       "MSFT_return_y              0.7462             0.2227        0.1423   \n",
       "DTB3_return_y              0.0222             0.0049        0.0002   \n",
       "DTB6_return_y              0.0002             0.0005        0.0000   \n",
       "DGS10_return_y             1.0000             0.0190        0.0612   \n",
       "DX-Y.NYB_return_y          0.0690             1.0000        0.2128   \n",
       "USO_return_y               0.1761             0.2671        1.0000   \n",
       "SP500_return_y             0.5230             0.4556        0.1653   \n",
       "VIXCLS_return_y            0.4694             0.0899        0.5463   \n",
       "\n",
       "                   SP500_return_x  VIXCLS_return_x  \n",
       "MSFT_return_y              0.1680           0.4920  \n",
       "DTB3_return_y              0.0000           0.0000  \n",
       "DTB6_return_y              0.0000           0.0004  \n",
       "DGS10_return_y             0.2296           0.3580  \n",
       "DX-Y.NYB_return_y          0.2244           0.4512  \n",
       "USO_return_y               0.5432           0.4903  \n",
       "SP500_return_y             1.0000           0.5446  \n",
       "VIXCLS_return_y            0.0610           1.0000  "
      ]
     },
     "execution_count": 13,
     "metadata": {},
     "output_type": "execute_result"
    }
   ],
   "source": [
    "def grangers_causation_matrix(data, variables, test='ssr_chi2test', maxlag=12, verbose=False):    \n",
    "    \"\"\"\n",
    "    Check Granger Causality of all possible combinations of the Time series.\n",
    "    The rows are the response variable, columns are predictors. The values in the table \n",
    "    are the P-Values. P-Values lesser than the significance level (0.05), implies \n",
    "    the Null Hypothesis that the coefficients of the corresponding past values is \n",
    "    zero, that is, the X does not cause Y can be rejected.\n",
    "\n",
    "    data      : pandas dataframe containing the time series variables\n",
    "    variables : list containing names of the time series variables.\n",
    "    \"\"\"\n",
    "    df = pd.DataFrame(np.zeros((len(variables), len(variables))), columns=variables, index=variables)\n",
    "    \n",
    "    for c in df.columns:\n",
    "        for r in df.index:\n",
    "            test_result = grangercausalitytests(data[[r, c]], maxlag=maxlag, verbose=False)\n",
    "            p_values = [round(test_result[i+1][0][test][1],4) for i in range(maxlag)]\n",
    "            if verbose: print(f'Y = {r}, X = {c}, P Values = {p_values}')\n",
    "            min_p_value = np.min(p_values)\n",
    "            df.loc[r, c] = min_p_value\n",
    "            \n",
    "    df.columns = [var + '_x' for var in variables]\n",
    "    df.index = [var + '_y' for var in variables]\n",
    "    \n",
    "    return df\n",
    "\n",
    "grangers_causation_matrix(merged_df, variables=model_columns)"
   ]
  },
  {
   "cell_type": "code",
   "execution_count": 14,
   "metadata": {},
   "outputs": [
    {
     "name": "stdout",
     "output_type": "stream",
     "text": [
      "Name                 :: Test Stat > C(95%) ==> Significant?\n",
      "--------------------------------------------------------------------------------\n",
      "MSFT_return          ::     456.50 > 143.67 ==> True\n",
      "DTB3_return          ::     357.34 > 111.78 ==> True\n",
      "DTB6_return          ::     260.26 >  83.94 ==> True\n",
      "DGS10_return         ::     194.64 >  60.06 ==> True\n",
      "DX-Y.NYB_return      ::     137.70 >  40.17 ==> True\n",
      "USO_return           ::      93.92 >  24.28 ==> True\n",
      "SP500_return         ::      58.81 >  12.32 ==> True\n",
      "VIXCLS_return        ::      27.87 >   4.13 ==> True\n"
     ]
    }
   ],
   "source": [
    "def cointegration_test(df, alpha=0.05): \n",
    "    \"\"\"\n",
    "    Perform Johanson's Cointegration Test and Report Summary\n",
    "    \"\"\"\n",
    "    out = coint_johansen(df, -1,5)\n",
    "    d = {'0.90': 0, '0.95': 1, '0.99': 2}\n",
    "    traces = out.lr1\n",
    "    cvts = out.cvt[:, d[str(1-alpha)]]\n",
    "\n",
    "    print('{: <20} :: {: <9} ==> {:}'.format('Name', 'Test Stat > C(95%)', 'Significant?'))\n",
    "    print('-' * 80)\n",
    "    for col, trace, cvt in zip(df.columns, traces, cvts):\n",
    "        print('{: <20} ::  {:9.2f} > {:6.2f} ==> {:}'.format(col, trace, cvt, trace > cvt))\n",
    "       \n",
    "cointegration_test(merged_df[model_columns])"
   ]
  },
  {
   "cell_type": "code",
   "execution_count": 15,
   "metadata": {},
   "outputs": [
    {
     "name": "stdout",
     "output_type": "stream",
     "text": [
      "Training rows:   (259, 12)\n",
      " Testing rows:   (4, 12)\n"
     ]
    }
   ],
   "source": [
    "n_test = 4\n",
    "\n",
    "# Make a copy of the test set since we will add the predictions to it later on.\n",
    "train_df, test_df = merged_df[0:-n_test], merged_df[-n_test:].copy()\n",
    "\n",
    "print('Training rows:  ', train_df.shape)  \n",
    "print(' Testing rows:  ', test_df.shape)"
   ]
  },
  {
   "cell_type": "code",
   "execution_count": 16,
   "metadata": {
    "collapsed": true
   },
   "outputs": [],
   "source": [
    "def adfuller_test(series, signif=0.05, name='', verbose=False):\n",
    "    \"\"\"\n",
    "    Perform ADFuller to test for Stationarity of given series and print report.\n",
    "    \"\"\"\n",
    "    r = adfuller(series, autolag='AIC')\n",
    "    \n",
    "    output = {'test_statistic':round(r[0], 4), 'pvalue':round(r[1], 4), 'n_lags':round(r[2], 4), 'n_obs':r[3]}\n",
    "    p_value = output['pvalue'] \n",
    "\n",
    "    if verbose:\n",
    "        # Print Summary\n",
    "        print('ADF Test on {:}'.format(name))\n",
    "        print('-' * 80)\n",
    "        print('Null Hypothesis:  Data has unit root.  Non-Stationary.')\n",
    "        print('')\n",
    "        print(' Significance Level:  {:6.2f}'.format(signif))\n",
    "        print('     Test Statistic:  {:6.2f}'.format(output['test_statistic']))\n",
    "        print('    No. Lags Chosen:  {:6d}'.format(output['n_lags']))\n",
    "        print('')\n",
    "\n",
    "        for key,val in r[4].items():\n",
    "            print(' Critical value {: <3}:  {:6.3f}'.format(key, val))\n",
    "\n",
    "        print('')\n",
    "\n",
    "        if p_value <= signif:\n",
    "            print('P-Value = {:4.2f}.  Rejecting Null Hypothesis.'.format(p_value))\n",
    "            print('Series is Stationary.')\n",
    "        else:\n",
    "            print('P-Value = {:4.2f}.  Weak evidence to reject the Null Hypothesis.'.format(p_value))\n",
    "            print('Series is Non-Stationary.')\n",
    "            \n",
    "    return p_value <= signif"
   ]
  },
  {
   "cell_type": "code",
   "execution_count": 17,
   "metadata": {},
   "outputs": [
    {
     "name": "stdout",
     "output_type": "stream",
     "text": [
      "All series are stationary.\n"
     ]
    }
   ],
   "source": [
    "all_series_stationary = True\n",
    "\n",
    "for name, column in train_df[model_columns].iteritems():\n",
    "    stationary = adfuller_test(column, name=column.name, verbose=verbose)\n",
    "    if not stationary:\n",
    "        all_series_stationary = False\n",
    "        print('Non-stationary series:  {:}'.format(name))\n",
    "        \n",
    "    if verbose:\n",
    "        print('')\n",
    "        \n",
    "if not all_series_stationary:\n",
    "    print('Not all series are stationary.')\n",
    "else:\n",
    "    print('All series are stationary.')"
   ]
  },
  {
   "cell_type": "code",
   "execution_count": 18,
   "metadata": {},
   "outputs": [
    {
     "name": "stderr",
     "output_type": "stream",
     "text": [
      "C:\\Users\\Craig\\AppData\\Local\\conda\\conda\\envs\\tensorflow\\lib\\site-packages\\statsmodels\\tsa\\base\\tsa_model.py:215: ValueWarning: An unsupported index was provided and will be ignored when e.g. forecasting.\n",
      "  ' ignored when e.g. forecasting.', ValueWarning)\n"
     ]
    }
   ],
   "source": [
    "model = VAR(train_df[model_columns])\n",
    "results = model.select_order(maxlags=max_lag)"
   ]
  },
  {
   "cell_type": "code",
   "execution_count": 19,
   "metadata": {},
   "outputs": [
    {
     "data": {
      "text/plain": [
       "4"
      ]
     },
     "execution_count": 19,
     "metadata": {},
     "output_type": "execute_result"
    }
   ],
   "source": [
    "lag_order = results.aic\n",
    "lag_order"
   ]
  },
  {
   "cell_type": "code",
   "execution_count": 20,
   "metadata": {},
   "outputs": [],
   "source": [
    "model_fitted = model.fit(lag_order)\n",
    "\n",
    "if verbose:\n",
    "    model_fitted.summary()"
   ]
  },
  {
   "cell_type": "code",
   "execution_count": 21,
   "metadata": {},
   "outputs": [
    {
     "name": "stdout",
     "output_type": "stream",
     "text": [
      "MSFT_return    :  1.94\n",
      "DTB3_return    :  2.04\n",
      "DTB6_return    :  2.10\n",
      "DGS10_return   :  1.98\n",
      "DX-Y.NYB_return:  2.06\n",
      "USO_return     :  1.97\n",
      "SP500_return   :  2.01\n",
      "VIXCLS_return  :  2.01\n"
     ]
    }
   ],
   "source": [
    "output = durbin_watson(model_fitted.resid)\n",
    "\n",
    "for col,val in zip(model_columns, output):\n",
    "    print('{: <15}:  {:4.2f}'.format(col, val))"
   ]
  },
  {
   "cell_type": "code",
   "execution_count": 22,
   "metadata": {},
   "outputs": [
    {
     "data": {
      "text/plain": [
       "array([[-0.01117102, -0.00634923,  0.00634923,  0.03900216, -0.00468957,\n",
       "        -0.03701008, -0.00632894,  0.22801792],\n",
       "       [ 0.0120303 , -0.03896597, -0.02564243,  0.        , -0.0020458 ,\n",
       "         0.05501386,  0.00706902,  0.06176809],\n",
       "       [ 0.02717752,  0.01967277,  0.        ,  0.03226086, -0.00605973,\n",
       "         0.02086755,  0.01754001, -0.26729443],\n",
       "       [ 0.01201526,  0.0129034 ,  0.0129034 ,  0.02094317,  0.00626447,\n",
       "         0.00869912,  0.01015057,  0.03798436]])"
      ]
     },
     "execution_count": 22,
     "metadata": {},
     "output_type": "execute_result"
    }
   ],
   "source": [
    "forecast_df = train_df[model_columns].values[-lag_order:]\n",
    "forecast_df"
   ]
  },
  {
   "cell_type": "code",
   "execution_count": 23,
   "metadata": {},
   "outputs": [
    {
     "data": {
      "text/plain": [
       "array([[-1.87150240e-03, -1.45180649e-01, -3.88347535e-02,\n",
       "        -5.39373483e-03, -1.55156904e-03, -1.03674329e-02,\n",
       "        -4.74164708e-03,  6.47766079e-02],\n",
       "       [ 5.59495153e-03,  3.78191704e-02,  1.92418653e-02,\n",
       "         1.02569666e-02,  1.11614819e-03, -5.56422026e-04,\n",
       "         6.44260669e-04,  2.75348992e-02],\n",
       "       [ 9.51654358e-03,  8.37330695e-02,  1.39001377e-02,\n",
       "         1.74244076e-03,  9.03239839e-04,  5.24460994e-03,\n",
       "         3.79226200e-03, -2.38020858e-02],\n",
       "       [ 6.85004915e-03,  5.68885580e-02,  5.13679771e-02,\n",
       "         2.66013671e-03,  9.89819307e-04, -1.13971501e-02,\n",
       "         2.47894002e-03, -2.57032932e-02],\n",
       "       [ 4.38599883e-03, -6.03533697e-03,  8.48016675e-04,\n",
       "         2.27998024e-04,  1.05627100e-04, -3.96307206e-03,\n",
       "         8.63750318e-04, -1.30274504e-03]])"
      ]
     },
     "execution_count": 23,
     "metadata": {},
     "output_type": "execute_result"
    }
   ],
   "source": [
    "predictions = model_fitted.forecast(y=forecast_df, steps=n_test+1)\n",
    "predictions"
   ]
  },
  {
   "cell_type": "code",
   "execution_count": 24,
   "metadata": {},
   "outputs": [
    {
     "data": {
      "text/html": [
       "<div>\n",
       "<style scoped>\n",
       "    .dataframe tbody tr th:only-of-type {\n",
       "        vertical-align: middle;\n",
       "    }\n",
       "\n",
       "    .dataframe tbody tr th {\n",
       "        vertical-align: top;\n",
       "    }\n",
       "\n",
       "    .dataframe thead th {\n",
       "        text-align: right;\n",
       "    }\n",
       "</style>\n",
       "<table border=\"1\" class=\"dataframe\">\n",
       "  <thead>\n",
       "    <tr style=\"text-align: right;\">\n",
       "      <th></th>\n",
       "      <th>Year</th>\n",
       "      <th>Week_Number</th>\n",
       "      <th>Date</th>\n",
       "      <th>Price</th>\n",
       "      <th>MSFT_return</th>\n",
       "      <th>DTB3_return</th>\n",
       "      <th>DTB6_return</th>\n",
       "      <th>DGS10_return</th>\n",
       "      <th>DX-Y.NYB_return</th>\n",
       "      <th>USO_return</th>\n",
       "      <th>SP500_return</th>\n",
       "      <th>VIXCLS_return</th>\n",
       "    </tr>\n",
       "  </thead>\n",
       "  <tbody>\n",
       "    <tr>\n",
       "      <th>0</th>\n",
       "      <td>2020</td>\n",
       "      <td>1</td>\n",
       "      <td>2020-01-02</td>\n",
       "      <td>160.619995</td>\n",
       "      <td>0.020187</td>\n",
       "      <td>-0.032576</td>\n",
       "      <td>-0.019418</td>\n",
       "      <td>-0.026248</td>\n",
       "      <td>-0.008533</td>\n",
       "      <td>0.008624</td>\n",
       "      <td>0.010442</td>\n",
       "      <td>-0.011164</td>\n",
       "    </tr>\n",
       "    <tr>\n",
       "      <th>1</th>\n",
       "      <td>2020</td>\n",
       "      <td>2</td>\n",
       "      <td>2020-01-06</td>\n",
       "      <td>159.029999</td>\n",
       "      <td>-0.009948</td>\n",
       "      <td>0.013158</td>\n",
       "      <td>-0.006557</td>\n",
       "      <td>-0.037945</td>\n",
       "      <td>-0.001860</td>\n",
       "      <td>0.026956</td>\n",
       "      <td>-0.003558</td>\n",
       "      <td>0.104959</td>\n",
       "    </tr>\n",
       "    <tr>\n",
       "      <th>2</th>\n",
       "      <td>2020</td>\n",
       "      <td>3</td>\n",
       "      <td>2020-01-13</td>\n",
       "      <td>163.279999</td>\n",
       "      <td>0.026374</td>\n",
       "      <td>0.006515</td>\n",
       "      <td>0.006557</td>\n",
       "      <td>0.021859</td>\n",
       "      <td>0.007010</td>\n",
       "      <td>-0.075746</td>\n",
       "      <td>0.012809</td>\n",
       "      <td>-0.117061</td>\n",
       "    </tr>\n",
       "    <tr>\n",
       "      <th>3</th>\n",
       "      <td>2020</td>\n",
       "      <td>4</td>\n",
       "      <td>2020-01-21</td>\n",
       "      <td>166.500000</td>\n",
       "      <td>0.019529</td>\n",
       "      <td>-0.006515</td>\n",
       "      <td>0.000000</td>\n",
       "      <td>-0.038572</td>\n",
       "      <td>0.001847</td>\n",
       "      <td>0.003273</td>\n",
       "      <td>0.009884</td>\n",
       "      <td>0.042120</td>\n",
       "    </tr>\n",
       "    <tr>\n",
       "      <th>4</th>\n",
       "      <td>2020</td>\n",
       "      <td>5</td>\n",
       "      <td>NaT</td>\n",
       "      <td>NaN</td>\n",
       "      <td>NaN</td>\n",
       "      <td>NaN</td>\n",
       "      <td>NaN</td>\n",
       "      <td>NaN</td>\n",
       "      <td>NaN</td>\n",
       "      <td>NaN</td>\n",
       "      <td>NaN</td>\n",
       "      <td>NaN</td>\n",
       "    </tr>\n",
       "  </tbody>\n",
       "</table>\n",
       "</div>"
      ],
      "text/plain": [
       "   Year  Week_Number       Date       Price  MSFT_return  DTB3_return  \\\n",
       "0  2020            1 2020-01-02  160.619995     0.020187    -0.032576   \n",
       "1  2020            2 2020-01-06  159.029999    -0.009948     0.013158   \n",
       "2  2020            3 2020-01-13  163.279999     0.026374     0.006515   \n",
       "3  2020            4 2020-01-21  166.500000     0.019529    -0.006515   \n",
       "4  2020            5        NaT         NaN          NaN          NaN   \n",
       "\n",
       "   DTB6_return  DGS10_return  DX-Y.NYB_return  USO_return  SP500_return  \\\n",
       "0    -0.019418     -0.026248        -0.008533    0.008624      0.010442   \n",
       "1    -0.006557     -0.037945        -0.001860    0.026956     -0.003558   \n",
       "2     0.006557      0.021859         0.007010   -0.075746      0.012809   \n",
       "3     0.000000     -0.038572         0.001847    0.003273      0.009884   \n",
       "4          NaN           NaN              NaN         NaN           NaN   \n",
       "\n",
       "   VIXCLS_return  \n",
       "0      -0.011164  \n",
       "1       0.104959  \n",
       "2      -0.117061  \n",
       "3       0.042120  \n",
       "4            NaN  "
      ]
     },
     "execution_count": 24,
     "metadata": {},
     "output_type": "execute_result"
    }
   ],
   "source": [
    "test_df = test_df.append({'Year': 2020, 'Week_Number': np.max(test_df['Week_Number'])+1}, ignore_index=True)\n",
    "\n",
    "test_df['Year'] = test_df['Year'].astype(int)\n",
    "test_df['Week_Number'] = test_df['Week_Number'].astype(int)\n",
    "\n",
    "test_df"
   ]
  },
  {
   "cell_type": "code",
   "execution_count": 25,
   "metadata": {},
   "outputs": [
    {
     "data": {
      "text/html": [
       "<div>\n",
       "<style scoped>\n",
       "    .dataframe tbody tr th:only-of-type {\n",
       "        vertical-align: middle;\n",
       "    }\n",
       "\n",
       "    .dataframe tbody tr th {\n",
       "        vertical-align: top;\n",
       "    }\n",
       "\n",
       "    .dataframe thead th {\n",
       "        text-align: right;\n",
       "    }\n",
       "</style>\n",
       "<table border=\"1\" class=\"dataframe\">\n",
       "  <thead>\n",
       "    <tr style=\"text-align: right;\">\n",
       "      <th></th>\n",
       "      <th>Year</th>\n",
       "      <th>Week_Number</th>\n",
       "      <th>Date</th>\n",
       "      <th>Price</th>\n",
       "      <th>MSFT_return</th>\n",
       "      <th>DTB3_return</th>\n",
       "      <th>DTB6_return</th>\n",
       "      <th>DGS10_return</th>\n",
       "      <th>DX-Y.NYB_return</th>\n",
       "      <th>USO_return</th>\n",
       "      <th>SP500_return</th>\n",
       "      <th>VIXCLS_return</th>\n",
       "      <th>MSFT_return (pred)</th>\n",
       "    </tr>\n",
       "  </thead>\n",
       "  <tbody>\n",
       "    <tr>\n",
       "      <th>0</th>\n",
       "      <td>2020</td>\n",
       "      <td>1</td>\n",
       "      <td>2020-01-02</td>\n",
       "      <td>160.619995</td>\n",
       "      <td>0.020187</td>\n",
       "      <td>-0.032576</td>\n",
       "      <td>-0.019418</td>\n",
       "      <td>-0.026248</td>\n",
       "      <td>-0.008533</td>\n",
       "      <td>0.008624</td>\n",
       "      <td>0.010442</td>\n",
       "      <td>-0.011164</td>\n",
       "      <td>-0.001872</td>\n",
       "    </tr>\n",
       "    <tr>\n",
       "      <th>1</th>\n",
       "      <td>2020</td>\n",
       "      <td>2</td>\n",
       "      <td>2020-01-06</td>\n",
       "      <td>159.029999</td>\n",
       "      <td>-0.009948</td>\n",
       "      <td>0.013158</td>\n",
       "      <td>-0.006557</td>\n",
       "      <td>-0.037945</td>\n",
       "      <td>-0.001860</td>\n",
       "      <td>0.026956</td>\n",
       "      <td>-0.003558</td>\n",
       "      <td>0.104959</td>\n",
       "      <td>0.005595</td>\n",
       "    </tr>\n",
       "    <tr>\n",
       "      <th>2</th>\n",
       "      <td>2020</td>\n",
       "      <td>3</td>\n",
       "      <td>2020-01-13</td>\n",
       "      <td>163.279999</td>\n",
       "      <td>0.026374</td>\n",
       "      <td>0.006515</td>\n",
       "      <td>0.006557</td>\n",
       "      <td>0.021859</td>\n",
       "      <td>0.007010</td>\n",
       "      <td>-0.075746</td>\n",
       "      <td>0.012809</td>\n",
       "      <td>-0.117061</td>\n",
       "      <td>0.009517</td>\n",
       "    </tr>\n",
       "    <tr>\n",
       "      <th>3</th>\n",
       "      <td>2020</td>\n",
       "      <td>4</td>\n",
       "      <td>2020-01-21</td>\n",
       "      <td>166.500000</td>\n",
       "      <td>0.019529</td>\n",
       "      <td>-0.006515</td>\n",
       "      <td>0.000000</td>\n",
       "      <td>-0.038572</td>\n",
       "      <td>0.001847</td>\n",
       "      <td>0.003273</td>\n",
       "      <td>0.009884</td>\n",
       "      <td>0.042120</td>\n",
       "      <td>0.006850</td>\n",
       "    </tr>\n",
       "    <tr>\n",
       "      <th>4</th>\n",
       "      <td>2020</td>\n",
       "      <td>5</td>\n",
       "      <td>NaT</td>\n",
       "      <td>NaN</td>\n",
       "      <td>NaN</td>\n",
       "      <td>NaN</td>\n",
       "      <td>NaN</td>\n",
       "      <td>NaN</td>\n",
       "      <td>NaN</td>\n",
       "      <td>NaN</td>\n",
       "      <td>NaN</td>\n",
       "      <td>NaN</td>\n",
       "      <td>0.004386</td>\n",
       "    </tr>\n",
       "  </tbody>\n",
       "</table>\n",
       "</div>"
      ],
      "text/plain": [
       "   Year  Week_Number       Date       Price  MSFT_return  DTB3_return  \\\n",
       "0  2020            1 2020-01-02  160.619995     0.020187    -0.032576   \n",
       "1  2020            2 2020-01-06  159.029999    -0.009948     0.013158   \n",
       "2  2020            3 2020-01-13  163.279999     0.026374     0.006515   \n",
       "3  2020            4 2020-01-21  166.500000     0.019529    -0.006515   \n",
       "4  2020            5        NaT         NaN          NaN          NaN   \n",
       "\n",
       "   DTB6_return  DGS10_return  DX-Y.NYB_return  USO_return  SP500_return  \\\n",
       "0    -0.019418     -0.026248        -0.008533    0.008624      0.010442   \n",
       "1    -0.006557     -0.037945        -0.001860    0.026956     -0.003558   \n",
       "2     0.006557      0.021859         0.007010   -0.075746      0.012809   \n",
       "3     0.000000     -0.038572         0.001847    0.003273      0.009884   \n",
       "4          NaN           NaN              NaN         NaN           NaN   \n",
       "\n",
       "   VIXCLS_return  MSFT_return (pred)  \n",
       "0      -0.011164           -0.001872  \n",
       "1       0.104959            0.005595  \n",
       "2      -0.117061            0.009517  \n",
       "3       0.042120            0.006850  \n",
       "4            NaN            0.004386  "
      ]
     },
     "execution_count": 25,
     "metadata": {},
     "output_type": "execute_result"
    }
   ],
   "source": [
    "test_df['{:}_return (pred)'.format(symbol_to_predict)] = [x[0] for x in predictions]\n",
    "test_df"
   ]
  },
  {
   "cell_type": "code",
   "execution_count": 30,
   "metadata": {},
   "outputs": [
    {
     "data": {
      "text/plain": [
       "1.0"
      ]
     },
     "execution_count": 30,
     "metadata": {},
     "output_type": "execute_result"
    }
   ],
   "source": [
    "explained_variance_score(test_df['MSFT_return'][0:-n_test], test_df['MSFT_return (pred)'][0:-n_test])"
   ]
  },
  {
   "cell_type": "code",
   "execution_count": 31,
   "metadata": {},
   "outputs": [
    {
     "data": {
      "text/plain": [
       "0.00048659547179202145"
      ]
     },
     "execution_count": 31,
     "metadata": {},
     "output_type": "execute_result"
    }
   ],
   "source": [
    "mean_squared_error(test_df['MSFT_return'][0:-n_test], test_df['MSFT_return (pred)'][0:-n_test])"
   ]
  },
  {
   "cell_type": "code",
   "execution_count": 44,
   "metadata": {},
   "outputs": [
    {
     "data": {
      "text/html": [
       "<div>\n",
       "<style scoped>\n",
       "    .dataframe tbody tr th:only-of-type {\n",
       "        vertical-align: middle;\n",
       "    }\n",
       "\n",
       "    .dataframe tbody tr th {\n",
       "        vertical-align: top;\n",
       "    }\n",
       "\n",
       "    .dataframe thead th {\n",
       "        text-align: right;\n",
       "    }\n",
       "</style>\n",
       "<table border=\"1\" class=\"dataframe\">\n",
       "  <thead>\n",
       "    <tr style=\"text-align: right;\">\n",
       "      <th></th>\n",
       "      <th>Week_Number</th>\n",
       "      <th>Price</th>\n",
       "      <th>Price (pred)</th>\n",
       "      <th>MSFT_return</th>\n",
       "      <th>MSFT_return (pred)</th>\n",
       "    </tr>\n",
       "  </thead>\n",
       "  <tbody>\n",
       "    <tr>\n",
       "      <th>0</th>\n",
       "      <td>1</td>\n",
       "      <td>160.619995</td>\n",
       "      <td>158.408134</td>\n",
       "      <td>0.020187</td>\n",
       "      <td>-0.001872</td>\n",
       "    </tr>\n",
       "    <tr>\n",
       "      <th>1</th>\n",
       "      <td>2</td>\n",
       "      <td>159.029999</td>\n",
       "      <td>159.413745</td>\n",
       "      <td>-0.009948</td>\n",
       "      <td>0.005595</td>\n",
       "    </tr>\n",
       "    <tr>\n",
       "      <th>2</th>\n",
       "      <td>3</td>\n",
       "      <td>163.279999</td>\n",
       "      <td>160.423307</td>\n",
       "      <td>0.026374</td>\n",
       "      <td>0.009517</td>\n",
       "    </tr>\n",
       "    <tr>\n",
       "      <th>3</th>\n",
       "      <td>4</td>\n",
       "      <td>166.500000</td>\n",
       "      <td>161.430180</td>\n",
       "      <td>0.019529</td>\n",
       "      <td>0.006850</td>\n",
       "    </tr>\n",
       "    <tr>\n",
       "      <th>4</th>\n",
       "      <td>5</td>\n",
       "      <td>NaN</td>\n",
       "      <td>162.434576</td>\n",
       "      <td>NaN</td>\n",
       "      <td>0.004386</td>\n",
       "    </tr>\n",
       "  </tbody>\n",
       "</table>\n",
       "</div>"
      ],
      "text/plain": [
       "   Week_Number       Price  Price (pred)  MSFT_return  MSFT_return (pred)\n",
       "0            1  160.619995    158.408134     0.020187           -0.001872\n",
       "1            2  159.029999    159.413745    -0.009948            0.005595\n",
       "2            3  163.279999    160.423307     0.026374            0.009517\n",
       "3            4  166.500000    161.430180     0.019529            0.006850\n",
       "4            5         NaN    162.434576          NaN            0.004386"
      ]
     },
     "execution_count": 44,
     "metadata": {},
     "output_type": "execute_result"
    }
   ],
   "source": [
    "for index,row in test_df.iterrows():\n",
    "    # For the first week, use the actual last price in next week's calc.  After that, use the predicted prices.\n",
    "    if index == 0:\n",
    "        test_df.loc[index, 'Price (pred)'] = merged_df.tail(5)['Price'].iloc[0] + np.exp(row['MSFT_return (pred)'])\n",
    "    else:\n",
    "        test_df.loc[index, 'Price (pred)'] = test_df.loc[index-1, 'Price (pred)'] + np.exp(row['MSFT_return (pred)'])\n",
    "    \n",
    "test_df[['Week_Number', 'Price', 'Price (pred)', 'MSFT_return', 'MSFT_return (pred)']]"
   ]
  },
  {
   "cell_type": "code",
   "execution_count": null,
   "metadata": {
    "collapsed": true
   },
   "outputs": [],
   "source": []
  }
 ],
 "metadata": {
  "kernelspec": {
   "display_name": "Python 3",
   "language": "python",
   "name": "python3"
  },
  "language_info": {
   "codemirror_mode": {
    "name": "ipython",
    "version": 3
   },
   "file_extension": ".py",
   "mimetype": "text/x-python",
   "name": "python",
   "nbconvert_exporter": "python",
   "pygments_lexer": "ipython3",
   "version": "3.6.2"
  }
 },
 "nbformat": 4,
 "nbformat_minor": 2
}
