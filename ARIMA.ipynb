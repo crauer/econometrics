{
 "cells": [
  {
   "cell_type": "markdown",
   "metadata": {},
   "source": [
    "## ARIMA\n",
    "\n",
    "Autoregressive Integrated Moving Average (ARIMA) assumes that the current value can depend only on the past values of the time series itself or on the past values of some error term."
   ]
  },
  {
   "cell_type": "code",
   "execution_count": 1,
   "metadata": {
    "collapsed": true
   },
   "outputs": [],
   "source": [
    "import pandas_datareader.data as web\n",
    "\n",
    "from datetime import datetime"
   ]
  },
  {
   "cell_type": "code",
   "execution_count": 2,
   "metadata": {},
   "outputs": [
    {
     "name": "stdout",
     "output_type": "stream",
     "text": [
      "Start date:  2015-01-01\n",
      "  End date:  2020-01-27\n"
     ]
    }
   ],
   "source": [
    "start_date = datetime(2015, 1, 1).date()\n",
    "end_date = datetime.now().date()\n",
    "\n",
    "print('Start date:  {:}'.format(start_date))\n",
    "print('  End date:  {:}'.format(end_date))"
   ]
  },
  {
   "cell_type": "code",
   "execution_count": 3,
   "metadata": {},
   "outputs": [
    {
     "data": {
      "text/html": [
       "<div>\n",
       "<style scoped>\n",
       "    .dataframe tbody tr th:only-of-type {\n",
       "        vertical-align: middle;\n",
       "    }\n",
       "\n",
       "    .dataframe tbody tr th {\n",
       "        vertical-align: top;\n",
       "    }\n",
       "\n",
       "    .dataframe thead th {\n",
       "        text-align: right;\n",
       "    }\n",
       "</style>\n",
       "<table border=\"1\" class=\"dataframe\">\n",
       "  <thead>\n",
       "    <tr style=\"text-align: right;\">\n",
       "      <th></th>\n",
       "      <th>Date</th>\n",
       "      <th>High</th>\n",
       "      <th>Low</th>\n",
       "      <th>Open</th>\n",
       "      <th>Close</th>\n",
       "      <th>Volume</th>\n",
       "      <th>Adj Close</th>\n",
       "    </tr>\n",
       "  </thead>\n",
       "  <tbody>\n",
       "    <tr>\n",
       "      <th>0</th>\n",
       "      <td>2015-01-02</td>\n",
       "      <td>18.469999</td>\n",
       "      <td>17.730000</td>\n",
       "      <td>18.230000</td>\n",
       "      <td>18.120001</td>\n",
       "      <td>11575900.0</td>\n",
       "      <td>17.075874</td>\n",
       "    </tr>\n",
       "    <tr>\n",
       "      <th>1</th>\n",
       "      <td>2015-01-05</td>\n",
       "      <td>17.660000</td>\n",
       "      <td>16.570000</td>\n",
       "      <td>17.650000</td>\n",
       "      <td>16.840000</td>\n",
       "      <td>16783900.0</td>\n",
       "      <td>15.869631</td>\n",
       "    </tr>\n",
       "    <tr>\n",
       "      <th>2</th>\n",
       "      <td>2015-01-06</td>\n",
       "      <td>17.049999</td>\n",
       "      <td>16.280001</td>\n",
       "      <td>16.840000</td>\n",
       "      <td>16.459999</td>\n",
       "      <td>16159000.0</td>\n",
       "      <td>15.511527</td>\n",
       "    </tr>\n",
       "    <tr>\n",
       "      <th>3</th>\n",
       "      <td>2015-01-07</td>\n",
       "      <td>16.760000</td>\n",
       "      <td>16.090000</td>\n",
       "      <td>16.620001</td>\n",
       "      <td>16.299999</td>\n",
       "      <td>12298600.0</td>\n",
       "      <td>15.360748</td>\n",
       "    </tr>\n",
       "    <tr>\n",
       "      <th>4</th>\n",
       "      <td>2015-01-08</td>\n",
       "      <td>16.549999</td>\n",
       "      <td>16.150000</td>\n",
       "      <td>16.420000</td>\n",
       "      <td>16.270000</td>\n",
       "      <td>13991300.0</td>\n",
       "      <td>15.332478</td>\n",
       "    </tr>\n",
       "  </tbody>\n",
       "</table>\n",
       "</div>"
      ],
      "text/plain": [
       "        Date       High        Low       Open      Close      Volume  \\\n",
       "0 2015-01-02  18.469999  17.730000  18.230000  18.120001  11575900.0   \n",
       "1 2015-01-05  17.660000  16.570000  17.650000  16.840000  16783900.0   \n",
       "2 2015-01-06  17.049999  16.280001  16.840000  16.459999  16159000.0   \n",
       "3 2015-01-07  16.760000  16.090000  16.620001  16.299999  12298600.0   \n",
       "4 2015-01-08  16.549999  16.150000  16.420000  16.270000  13991300.0   \n",
       "\n",
       "   Adj Close  \n",
       "0  17.075874  \n",
       "1  15.869631  \n",
       "2  15.511527  \n",
       "3  15.360748  \n",
       "4  15.332478  "
      ]
     },
     "execution_count": 3,
     "metadata": {},
     "output_type": "execute_result"
    }
   ],
   "source": [
    "df = web.DataReader('RIG', 'yahoo', start_date, end_date).reset_index()\n",
    "df.head(5)"
   ]
  },
  {
   "cell_type": "code",
   "execution_count": 6,
   "metadata": {},
   "outputs": [
    {
     "data": {
      "text/html": [
       "<div>\n",
       "<style scoped>\n",
       "    .dataframe tbody tr th:only-of-type {\n",
       "        vertical-align: middle;\n",
       "    }\n",
       "\n",
       "    .dataframe tbody tr th {\n",
       "        vertical-align: top;\n",
       "    }\n",
       "\n",
       "    .dataframe thead th {\n",
       "        text-align: right;\n",
       "    }\n",
       "</style>\n",
       "<table border=\"1\" class=\"dataframe\">\n",
       "  <thead>\n",
       "    <tr style=\"text-align: right;\">\n",
       "      <th></th>\n",
       "      <th>Date</th>\n",
       "      <th>High</th>\n",
       "      <th>Low</th>\n",
       "      <th>Open</th>\n",
       "      <th>Close</th>\n",
       "      <th>Volume</th>\n",
       "      <th>Adj Close</th>\n",
       "      <th>Return (PCT)</th>\n",
       "    </tr>\n",
       "  </thead>\n",
       "  <tbody>\n",
       "    <tr>\n",
       "      <th>0</th>\n",
       "      <td>2015-01-02</td>\n",
       "      <td>18.469999</td>\n",
       "      <td>17.730000</td>\n",
       "      <td>18.230000</td>\n",
       "      <td>18.120001</td>\n",
       "      <td>11575900.0</td>\n",
       "      <td>17.075874</td>\n",
       "      <td>NaN</td>\n",
       "    </tr>\n",
       "    <tr>\n",
       "      <th>1</th>\n",
       "      <td>2015-01-05</td>\n",
       "      <td>17.660000</td>\n",
       "      <td>16.570000</td>\n",
       "      <td>17.650000</td>\n",
       "      <td>16.840000</td>\n",
       "      <td>16783900.0</td>\n",
       "      <td>15.869631</td>\n",
       "      <td>-7.064022</td>\n",
       "    </tr>\n",
       "    <tr>\n",
       "      <th>2</th>\n",
       "      <td>2015-01-06</td>\n",
       "      <td>17.049999</td>\n",
       "      <td>16.280001</td>\n",
       "      <td>16.840000</td>\n",
       "      <td>16.459999</td>\n",
       "      <td>16159000.0</td>\n",
       "      <td>15.511527</td>\n",
       "      <td>-2.256535</td>\n",
       "    </tr>\n",
       "    <tr>\n",
       "      <th>3</th>\n",
       "      <td>2015-01-07</td>\n",
       "      <td>16.760000</td>\n",
       "      <td>16.090000</td>\n",
       "      <td>16.620001</td>\n",
       "      <td>16.299999</td>\n",
       "      <td>12298600.0</td>\n",
       "      <td>15.360748</td>\n",
       "      <td>-0.972043</td>\n",
       "    </tr>\n",
       "    <tr>\n",
       "      <th>4</th>\n",
       "      <td>2015-01-08</td>\n",
       "      <td>16.549999</td>\n",
       "      <td>16.150000</td>\n",
       "      <td>16.420000</td>\n",
       "      <td>16.270000</td>\n",
       "      <td>13991300.0</td>\n",
       "      <td>15.332478</td>\n",
       "      <td>-0.184045</td>\n",
       "    </tr>\n",
       "  </tbody>\n",
       "</table>\n",
       "</div>"
      ],
      "text/plain": [
       "        Date       High        Low       Open      Close      Volume  \\\n",
       "0 2015-01-02  18.469999  17.730000  18.230000  18.120001  11575900.0   \n",
       "1 2015-01-05  17.660000  16.570000  17.650000  16.840000  16783900.0   \n",
       "2 2015-01-06  17.049999  16.280001  16.840000  16.459999  16159000.0   \n",
       "3 2015-01-07  16.760000  16.090000  16.620001  16.299999  12298600.0   \n",
       "4 2015-01-08  16.549999  16.150000  16.420000  16.270000  13991300.0   \n",
       "\n",
       "   Adj Close  Return (PCT)  \n",
       "0  17.075874           NaN  \n",
       "1  15.869631     -7.064022  \n",
       "2  15.511527     -2.256535  \n",
       "3  15.360748     -0.972043  \n",
       "4  15.332478     -0.184045  "
      ]
     },
     "execution_count": 6,
     "metadata": {},
     "output_type": "execute_result"
    }
   ],
   "source": [
    "df['Return (PCT)'] = (df['Adj Close'].diff() / df['Adj Close'].shift(1)) * 100.0\n",
    "df.head(5)"
   ]
  },
  {
   "cell_type": "code",
   "execution_count": null,
   "metadata": {
    "collapsed": true
   },
   "outputs": [],
   "source": []
  }
 ],
 "metadata": {
  "kernelspec": {
   "display_name": "Python 3",
   "language": "python",
   "name": "python3"
  },
  "language_info": {
   "codemirror_mode": {
    "name": "ipython",
    "version": 3
   },
   "file_extension": ".py",
   "mimetype": "text/x-python",
   "name": "python",
   "nbconvert_exporter": "python",
   "pygments_lexer": "ipython3",
   "version": "3.6.2"
  }
 },
 "nbformat": 4,
 "nbformat_minor": 2
}
